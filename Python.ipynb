{
  "cells": [
    {
      "cell_type": "markdown",
      "metadata": {
        "id": "0iypfAx6loTv"
      },
      "source": []
    },
    {
      "cell_type": "code",
      "source": [],
      "metadata": {
        "id": "FEPnff5kmtSQ"
      },
      "execution_count": null,
      "outputs": []
    },
    {
      "cell_type": "markdown",
      "metadata": {
        "id": "q0ew-HsWHVG8"
      },
      "source": [
        "Tipos Primitivos:\n",
        "\n",
        "*   int = 9, 25, 1001\n",
        "*   float = 2.3, 0.4, 0.0023\n",
        "*   bool = True, False\n",
        "*   str = \"Ola, Mundo\""
      ]
    },
    {
      "cell_type": "markdown",
      "metadata": {
        "id": "GZAUaoK_sewg"
      },
      "source": [
        "Operadores Aritméticos:\n",
        "\n",
        "\n",
        "\n",
        "  *   +: Adição\n",
        "  *   -: Subtração\n",
        "  *   *: Multiplicação\n",
        "  *   /: Divisão\n",
        "  *   **: Potência\n",
        "  *   //: Divisão inteira\n",
        "  *   %: Resto da divisão\n",
        "\n",
        "\n",
        "\n",
        "\n",
        "\n",
        "\n",
        "\n",
        "\n",
        "\n",
        "\n"
      ]
    },
    {
      "cell_type": "markdown",
      "metadata": {
        "id": "xyrq9UIst9nu"
      },
      "source": [
        "Ordem de precedencia:\n",
        "\n",
        "\n",
        "1.   ()\n",
        "2.   **\n",
        "3.   *, /, //, %\n",
        "4.   +, -,\n",
        "\n"
      ]
    },
    {
      "cell_type": "markdown",
      "metadata": {
        "id": "1WWiWfBcAXbj"
      },
      "source": [
        "EX001\n"
      ]
    },
    {
      "cell_type": "code",
      "execution_count": null,
      "metadata": {
        "colab": {
          "base_uri": "https://localhost:8080/"
        },
        "id": "8h96eYtO5v0w",
        "outputId": "4abe1c05-f63e-4767-814b-08f78d4704a3"
      },
      "outputs": [
        {
          "name": "stdout",
          "output_type": "stream",
          "text": [
            "Ola, Mundo!\n"
          ]
        }
      ],
      "source": [
        "print(\"Ola, Mundo!\")\n"
      ]
    },
    {
      "cell_type": "markdown",
      "metadata": {
        "id": "Fcy-nktdAa8p"
      },
      "source": [
        "EX002"
      ]
    },
    {
      "cell_type": "code",
      "execution_count": null,
      "metadata": {
        "colab": {
          "base_uri": "https://localhost:8080/"
        },
        "id": "W_6iTaG6AWd5",
        "outputId": "3b0a61e6-cf49-44af-cc01-d0aa5d94c5c2"
      },
      "outputs": [
        {
          "name": "stdout",
          "output_type": "stream",
          "text": [
            "Digite seu nome: Matheus\n",
            "É um prazer te conhecer,Matheus!\n"
          ]
        }
      ],
      "source": [
        "nome = input(\"Digite seu nome: \")\n",
        "print (\"É um prazer te conhecer,{}!\".format(nome))"
      ]
    },
    {
      "cell_type": "markdown",
      "metadata": {
        "id": "7KGmihX8GPSj"
      },
      "source": [
        "EX003"
      ]
    },
    {
      "cell_type": "code",
      "execution_count": null,
      "metadata": {
        "colab": {
          "base_uri": "https://localhost:8080/"
        },
        "id": "yMcBEzxhGREz",
        "outputId": "3f115112-a71c-4ea1-e6d8-da2d75dc52df"
      },
      "outputs": [
        {
          "name": "stdout",
          "output_type": "stream",
          "text": [
            "Escreva um numero: 5\n",
            "Escreva outro numero: 2\n",
            "A soma de 5 com 2 e de 7!)\n"
          ]
        }
      ],
      "source": [
        "n1 = int(input (\"Escreva um numero: \"))\n",
        "n2 = int(input (\"Escreva outro numero: \"))\n",
        "s = n1 + n2\n",
        "print (\"A soma de {} com {} e de {}!)\".format(n1, n2, s))"
      ]
    },
    {
      "cell_type": "markdown",
      "metadata": {
        "id": "vs5QJsj8LTO-"
      },
      "source": [
        "EX004\n"
      ]
    },
    {
      "cell_type": "code",
      "execution_count": null,
      "metadata": {
        "colab": {
          "base_uri": "https://localhost:8080/"
        },
        "id": "Vxqp5vF8LUtl",
        "outputId": "180e0844-0b57-401b-dcea-d837fc6cd2ef"
      },
      "outputs": [
        {
          "name": "stdout",
          "output_type": "stream",
          "text": [
            "Escreva alguma coisa: 3A\n",
            "<class 'str'>\n"
          ]
        }
      ],
      "source": [
        "a = input(\"Escreva alguma coisa: \")\n",
        "print(type(\"a\"))"
      ]
    },
    {
      "cell_type": "markdown",
      "metadata": {
        "id": "4E9rUDL0p9Nh"
      },
      "source": [
        "EX005\n"
      ]
    },
    {
      "cell_type": "code",
      "execution_count": null,
      "metadata": {
        "colab": {
          "base_uri": "https://localhost:8080/"
        },
        "id": "kI_IKBK7p-eY",
        "outputId": "f30ac545-71d7-412f-fa56-244f359c550d"
      },
      "outputs": [
        {
          "name": "stdout",
          "output_type": "stream",
          "text": [
            "digite algo: Gustavo\n",
            "o tipo primitivo desse valor é  <class 'str'>\n",
            "So tem espaço:  False\n",
            "E um numero:  False\n",
            "E alfabetico:  True\n",
            "E alfanumerico:  True\n",
            "Esta em MAIUSCULO:  False\n",
            "esta em minusculo:  False\n",
            "Esta capitalizada:  True\n"
          ]
        }
      ],
      "source": [
        "a = input(\"digite algo: \")\n",
        "print(\"o tipo primitivo desse valor é \", type(a))\n",
        "print(\"So tem espaço: \", a.isspace())\n",
        "print(\"E um numero: \", a.isnumeric())\n",
        "print(\"E alfabetico: \", a.isalpha())\n",
        "print(\"E alfanumerico: \", a.isalnum())\n",
        "print(\"Esta em MAIUSCULO: \",a.isupper())\n",
        "print(\"esta em minusculo: \",a.islower())\n",
        "print(\"Esta capitalizada: \",a.istitle())"
      ]
    },
    {
      "cell_type": "markdown",
      "metadata": {
        "id": "bN3RMtNNx_2Z"
      },
      "source": [
        "EX:006"
      ]
    },
    {
      "cell_type": "code",
      "execution_count": null,
      "metadata": {
        "colab": {
          "base_uri": "https://localhost:8080/"
        },
        "id": "s3_-vnSzyDHZ",
        "outputId": "bd43f0fa-59d0-46ca-ccf0-40d7d13500e1"
      },
      "outputs": [
        {
          "name": "stdout",
          "output_type": "stream",
          "text": [
            "Digite um numero: 4\n",
            "Digite outro numero: 3\n",
            "A soma de 4 com 3 é de 7\n",
            "A subtração de 4 com 3 é de 1\n",
            "A multiplicação de 4 com 3 é de 12\n",
            "A divisão de 4 com 3 é de 1.333\n",
            "A potência de 4 com 3 é de 64\n",
            "A divisao inteira de 4 com 3 é de 1      \n",
            "     O resto da divisão de 4 com 3 é de 1\n"
          ]
        }
      ],
      "source": [
        "n1 = int(input(\"Digite um numero: \"))\n",
        "n2 = int(input(\"Digite outro numero: \"))\n",
        "a = n1 + n2\n",
        "s = n1 - n2\n",
        "m = n1 * n2\n",
        "d = n1 / n2\n",
        "di = n1 // n2\n",
        "p = n1 ** n2\n",
        "rd = n1 % n2\n",
        "\n",
        "print(\"A soma de {} com {} é de {}\".format(n1,n2,a))\n",
        "print(\"A subtração de {} com {} é de {}\".format(n1,n2,s))\n",
        "print(\"A multiplicação de {} com {} é de {}\".format(n1,n2,m))\n",
        "print(\"A divisão de {} com {} é de {:.3f}\".format(n1,n2,d))\n",
        "print(\"A potência de {} com {} é de {}\".format(n1,n2,p))\n",
        "print(\"A divisao inteira de {} com {} é de {}\".format(n1,n2,di),end= \"      \\n     \")\n",
        "print(\"O resto da divisão de {} com {} é de {}\".format(n1,n2,rd))"
      ]
    },
    {
      "cell_type": "markdown",
      "metadata": {
        "id": "WKhm3Wc7cwSi"
      },
      "source": [
        "EX:007"
      ]
    },
    {
      "cell_type": "code",
      "execution_count": null,
      "metadata": {
        "colab": {
          "base_uri": "https://localhost:8080/"
        },
        "id": "lO4UPCa5cyXq",
        "outputId": "d1d94c1b-a698-401a-a20c-3eb2360ea188"
      },
      "outputs": [
        {
          "name": "stdout",
          "output_type": "stream",
          "text": [
            "Escreva um numero: 5\n",
            "Seu antecessor e 4 e seu sucessor e de 6\n"
          ]
        }
      ],
      "source": [
        "n = int(input(\"Escreva um numero: \"))\n",
        "print(\"Seu antecessor e {} e seu sucessor e de {}\" .format(n-1,n+1))\n"
      ]
    },
    {
      "cell_type": "markdown",
      "metadata": {
        "id": "Enz3_2NH1YhX"
      },
      "source": [
        "EX008"
      ]
    },
    {
      "cell_type": "code",
      "execution_count": null,
      "metadata": {
        "colab": {
          "base_uri": "https://localhost:8080/"
        },
        "id": "apOVcS8i1ZYu",
        "outputId": "9336ae02-1be1-4e84-871a-7f6a1b541457"
      },
      "outputs": [
        {
          "name": "stdout",
          "output_type": "stream",
          "text": [
            "Escolha um numero: 25\n",
            "O dobro de 25 é de 50. O triplo de 25 e de 75. A raiz quadrada de 25 e de 5.0\n"
          ]
        }
      ],
      "source": [
        "n1 = int(input(\"Escolha um numero: \"))\n",
        "s1 = n1 * 2\n",
        "s2 = n1 * 3\n",
        "s3 = n1 ** (1/2)\n",
        "\n",
        "print(\"O dobro de {} é de {}. O triplo de {} e de {}. A raiz quadrada de {} e de {}\".format(n1,s1,n1,s2,n1,s3))\n"
      ]
    },
    {
      "cell_type": "markdown",
      "metadata": {
        "id": "rjBvSocq2koP"
      },
      "source": [
        "EX:009\n"
      ]
    },
    {
      "cell_type": "code",
      "execution_count": null,
      "metadata": {
        "colab": {
          "base_uri": "https://localhost:8080/"
        },
        "id": "IAPR2NCO2o7D",
        "outputId": "e45f144d-3753-42a5-e4b7-3e941c19d891"
      },
      "outputs": [
        {
          "name": "stdout",
          "output_type": "stream",
          "text": [
            "Digite um valor: 7\n",
            "Digite outro valor: 5\n",
            "A media do aluno e de:  6.0\n"
          ]
        }
      ],
      "source": [
        "n1 = int(input(\"Digite um valor: \"))\n",
        "n2 = int(input(\"Digite outro valor: \"))\n",
        "m = (n1 + n2) /2\n",
        "print(\"A media do aluno e de: \", m)"
      ]
    },
    {
      "cell_type": "markdown",
      "metadata": {
        "id": "cFloaMEDe1Zb"
      },
      "source": [
        "EX:010"
      ]
    },
    {
      "cell_type": "code",
      "execution_count": null,
      "metadata": {
        "colab": {
          "base_uri": "https://localhost:8080/"
        },
        "id": "7wPLh9ese3pH",
        "outputId": "1512ec9e-cee2-4a5e-a6c1-ca453f480c00"
      },
      "outputs": [
        {
          "name": "stdout",
          "output_type": "stream",
          "text": [
            "Digite uma medida em metros: 2.5\n",
            "A medida 2.5m equivale a 250.0cm e a 2500.0mm\n"
          ]
        }
      ],
      "source": [
        "medida = float(input(\"Digite uma medida em metros: \"))\n",
        "cm = medida * 100\n",
        "mm = medida * 1000\n",
        "print(\"A medida {}m equivale a {}cm e a {}mm\".format(medida,cm,mm))"
      ]
    },
    {
      "cell_type": "markdown",
      "metadata": {
        "id": "rzOSOnLZ3izQ"
      },
      "source": [
        "EX:011\n"
      ]
    },
    {
      "cell_type": "code",
      "execution_count": null,
      "metadata": {
        "colab": {
          "base_uri": "https://localhost:8080/"
        },
        "id": "kykkg8GI3kn4",
        "outputId": "b8a4a627-b66b-4426-9a67-d1ded4e2e684"
      },
      "outputs": [
        {
          "name": "stdout",
          "output_type": "stream",
          "text": [
            "digite um valor: 5\n",
            "5\n",
            "10\n",
            "15\n",
            "20\n",
            "25\n",
            "30\n",
            "35\n",
            "40\n",
            "45\n"
          ]
        }
      ],
      "source": [
        "n = int(input(\"digite um valor: \"))\n",
        "print(n * 1)\n",
        "print(n * 2)\n",
        "print(n * 3)\n",
        "print(n * 4)\n",
        "print(n * 5)\n",
        "print(n * 6)\n",
        "print(n * 7)\n",
        "print(n * 8)\n",
        "print(n * 9)\n",
        "print(n * 10)\n"
      ]
    },
    {
      "cell_type": "markdown",
      "metadata": {
        "id": "Nsm7cL-g4HJn"
      },
      "source": [
        "EX:012"
      ]
    },
    {
      "cell_type": "code",
      "execution_count": null,
      "metadata": {
        "colab": {
          "base_uri": "https://localhost:8080/"
        },
        "id": "HgS7H0ry4I2I",
        "outputId": "0b86929e-b8d1-4c30-fd7b-ec5fbc2cf321"
      },
      "outputs": [
        {
          "name": "stdout",
          "output_type": "stream",
          "text": [
            "Quantos reais voce tem? 125351\n",
            "Voce tem um total de 25070.2 dolares\n"
          ]
        }
      ],
      "source": [
        "R = int(input(\"Quantos reais voce tem? \"))\n",
        "D = R / 5\n",
        "print(\"Voce tem um total de {} dolares\".format(D))"
      ]
    },
    {
      "cell_type": "markdown",
      "metadata": {
        "id": "xMnpq4eNhOcb"
      },
      "source": [
        "EX:013"
      ]
    },
    {
      "cell_type": "code",
      "execution_count": null,
      "metadata": {
        "colab": {
          "base_uri": "https://localhost:8080/"
        },
        "id": "ZQB5Q_9mhP0G",
        "outputId": "d203f318-9d87-4f08-8e7e-1220ed835385"
      },
      "outputs": [
        {
          "name": "stdout",
          "output_type": "stream",
          "text": [
            "Qual o tamanho da parede: 2.5\n",
            "Qual a largura da parede: 1.75\n",
            "Sua parede tem dimensão de 2.5 x 1.75 sua area e de 4.375\n",
            "Para pintar essa parede voce precisa de 2.1875l de tinta\n"
          ]
        }
      ],
      "source": [
        "lp = float(input(\"Qual o tamanho da parede: \"))\n",
        "ap = float(input(\"Qual a largura da parede: \"))\n",
        "td = lp * ap\n",
        "tppt = td / 2\n",
        "print(\"Sua parede tem dimensão de {} x {} sua area e de {}\".format(lp,ap,td))\n",
        "print(\"Para pintar essa parede voce precisa de {}l de tinta\".format(tppt))"
      ]
    },
    {
      "cell_type": "markdown",
      "metadata": {
        "id": "JnkoPUN3iTd6"
      },
      "source": [
        "EX:014"
      ]
    },
    {
      "cell_type": "code",
      "execution_count": null,
      "metadata": {
        "colab": {
          "base_uri": "https://localhost:8080/"
        },
        "id": "GMt6KZWmiVJt",
        "outputId": "714d940c-e134-4c7f-9c47-3afa37c8dd6d"
      },
      "outputs": [
        {
          "name": "stdout",
          "output_type": "stream",
          "text": [
            "Quanto custa esse produto? 100\n",
            "Com o total de 5% esse produto fica no valor de R$95.0!\n"
          ]
        }
      ],
      "source": [
        "preço = float(input(\"Quanto custa esse produto? \"))\n",
        "novo = preço - (preço * 5 / 100)\n",
        "print(\"Com o total de 5% esse produto fica no valor de R${}!\".format(novo))"
      ]
    },
    {
      "cell_type": "markdown",
      "metadata": {
        "id": "0ZOz-LWEkB17"
      },
      "source": [
        "EX:015"
      ]
    },
    {
      "cell_type": "code",
      "execution_count": null,
      "metadata": {
        "colab": {
          "base_uri": "https://localhost:8080/"
        },
        "id": "iu0ihhM1kDUg",
        "outputId": "7774104f-cf4c-44c7-8456-cd05af6abdde"
      },
      "outputs": [
        {
          "name": "stdout",
          "output_type": "stream",
          "text": [
            "Quanto de salario voce recebe? 1000\n",
            "Seu novo salario e de 1150.0\n"
          ]
        }
      ],
      "source": [
        "preço = float(input(\"Quanto de salario voce recebe? \"))\n",
        "novo = preço + (preço * 15/100)\n",
        "print(\"Seu novo salario e de {}\".format(novo))"
      ]
    },
    {
      "cell_type": "markdown",
      "metadata": {
        "id": "xYEc5VG7kw6t"
      },
      "source": [
        "EX:016"
      ]
    },
    {
      "cell_type": "code",
      "execution_count": null,
      "metadata": {
        "id": "TnmabvY0ky-8"
      },
      "outputs": [],
      "source": [
        "c = float(input(\"informe a temperatura em C: \"))\n",
        "f = 9 * c/5 + 32\n",
        "print(\"A temperatura de {}C corresponde a {}F\".format(c,f))"
      ]
    },
    {
      "cell_type": "markdown",
      "metadata": {
        "id": "TLWHLpiMlLN7"
      },
      "source": [
        "EX:017"
      ]
    },
    {
      "cell_type": "code",
      "execution_count": null,
      "metadata": {
        "colab": {
          "base_uri": "https://localhost:8080/"
        },
        "id": "6LZ3I7n-lMjE",
        "outputId": "6a81df91-37e3-4c47-a730-e5028491687d"
      },
      "outputs": [
        {
          "name": "stdout",
          "output_type": "stream",
          "text": [
            "Quantos dias voce ficou com o carro? 1000\n",
            "Quantos kilometros voce rodou com o carro? 1000\n",
            "o valor total a ser pago e de R$60150.0\n"
          ]
        }
      ],
      "source": [
        "da = int(input(\"Quantos dias voce ficou com o carro? \"))\n",
        "qr = float(input(\"Quantos kilometros voce rodou com o carro? \"))\n",
        "pago = (da * 60) + (qr * 0.15)\n",
        "print(\"o valor total a ser pago e de R${}\".format(pago))"
      ]
    },
    {
      "cell_type": "markdown",
      "metadata": {
        "id": "RQCFxIymzJTd"
      },
      "source": [
        "EX:018"
      ]
    },
    {
      "cell_type": "code",
      "execution_count": null,
      "metadata": {
        "colab": {
          "base_uri": "https://localhost:8080/"
        },
        "id": "BC8_rlv8z8YW",
        "outputId": "da25547d-ff70-4f9a-a264-1c2d7dd9442c"
      },
      "outputs": [
        {
          "name": "stdout",
          "output_type": "stream",
          "text": [
            "Digite um numero: 81\n",
            "A raiz de 81 e 9.0\n"
          ]
        }
      ],
      "source": [
        "from math import sqrt\n",
        "n = int(input(\"Digite um numero: \"))\n",
        "raiz = math.sqrt(n)\n",
        "print(\"A raiz de {} e {}\".format(n,raiz))\n",
        "\n"
      ]
    },
    {
      "cell_type": "markdown",
      "metadata": {
        "id": "XL_zCJbn1QFt"
      },
      "source": [
        "EX:019\n"
      ]
    },
    {
      "cell_type": "code",
      "execution_count": null,
      "metadata": {
        "colab": {
          "base_uri": "https://localhost:8080/"
        },
        "id": "R15Z0fHV1TPS",
        "outputId": "665ea2ec-343f-4671-d991-af185e18db22"
      },
      "outputs": [
        {
          "name": "stdout",
          "output_type": "stream",
          "text": [
            "9\n"
          ]
        }
      ],
      "source": [
        "import random\n",
        "ran = random.randint(1,10)\n",
        "print(ran)"
      ]
    },
    {
      "cell_type": "markdown",
      "metadata": {
        "id": "d2BW9Znf7yYu"
      },
      "source": [
        "EX:020"
      ]
    },
    {
      "cell_type": "code",
      "execution_count": null,
      "metadata": {
        "colab": {
          "base_uri": "https://localhost:8080/"
        },
        "id": "hIIOSQ-t78JA",
        "outputId": "578706cb-6c83-40c4-8e25-087ce93885c7"
      },
      "outputs": [
        {
          "name": "stdout",
          "output_type": "stream",
          "text": [
            "digite um numero: 6.1918\n",
            "O numero digitado foi de 6.1918, sua porção inteira e de 6\n"
          ]
        }
      ],
      "source": [
        "from math import trunc\n",
        "num = float(input('digite um numero: '))\n",
        "print('O numero digitado foi de {}, sua porção inteira e de {}'.format(num, trunc(num)))"
      ]
    },
    {
      "cell_type": "markdown",
      "metadata": {
        "id": "Dp4CMdkL73r1"
      },
      "source": [
        "EX:021"
      ]
    },
    {
      "cell_type": "code",
      "execution_count": null,
      "metadata": {
        "colab": {
          "base_uri": "https://localhost:8080/"
        },
        "id": "Z--TQulw9trd",
        "outputId": "8c2931c9-ffef-4433-eb61-d8513ef5e766"
      },
      "outputs": [
        {
          "name": "stdout",
          "output_type": "stream",
          "text": [
            "Comprimento do cateto oposto: 2\n",
            "Comprimento do cateto adjacente: 2.5\n",
            "O valor e de 3.2016\n"
          ]
        }
      ],
      "source": [
        "from math import hypot\n",
        "co = float(input(\"Comprimento do cateto oposto: \"))\n",
        "ca = float(input(\"Comprimento do cateto adjacente: \"))\n",
        "R = hypot(co,ca)\n",
        "print(\"O valor e de {:.4f}\".format(R))"
      ]
    },
    {
      "cell_type": "markdown",
      "metadata": {
        "id": "oJ-5vL_F74Y-"
      },
      "source": [
        "EX:022"
      ]
    },
    {
      "cell_type": "code",
      "execution_count": null,
      "metadata": {
        "colab": {
          "base_uri": "https://localhost:8080/"
        },
        "id": "zbcHD6aNA3Cz",
        "outputId": "c6f06780-a1bc-45c8-fd89-66eacfee1af5"
      },
      "outputs": [
        {
          "name": "stdout",
          "output_type": "stream",
          "text": [
            "Digite o ângulo que você deseja: 30\n",
            "O ângulo de 30.0 tem o SENO de 0.50\n",
            "O ânqulo de 30.0 tem o COSSENO de 0.87\n",
            "0 ângulo de 30.0 tem a TANGENTE de 0.58\n"
          ]
        }
      ],
      "source": [
        "from math import radians, sin, cos, tan\n",
        "ângulo = float (input ('Digite o ângulo que você deseja: '))\n",
        "seno = sin(radians(ângulo) )\n",
        "print(\"O ângulo de {} tem o SENO de {:.2f}\".format (ângulo, seno))\n",
        "cosseno = cos(radians(ângulo) )\n",
        "print(\"O ânqulo de {} tem o COSSENO de {:.2f}\".format(ângulo, cosseno) )\n",
        "tangente = tan(radians (ângulo) )\n",
        "print(\"0 ângulo de {} tem a TANGENTE de {:.2f}\".format(ângulo, tangente))"
      ]
    },
    {
      "cell_type": "markdown",
      "metadata": {
        "id": "ct7whVII7499"
      },
      "source": [
        "EX:023"
      ]
    },
    {
      "cell_type": "code",
      "execution_count": null,
      "metadata": {
        "colab": {
          "base_uri": "https://localhost:8080/"
        },
        "id": "HmmDnjZECvpK",
        "outputId": "0aad17f6-ae7d-4757-e971-7a8d6e278dd6"
      },
      "outputs": [
        {
          "name": "stdout",
          "output_type": "stream",
          "text": [
            "Digite o nome de um aluno: ana\n",
            "Digite o nome de um aluno: lara\n",
            "Digite o nome de um aluno: matheus\n",
            "Digite o nome de um aluno: davi\n",
            "O aluno escolhido foi: davi\n"
          ]
        }
      ],
      "source": [
        "from random import choice\n",
        "A1 = input(\"Digite o nome de um aluno: \")\n",
        "A2 = input(\"Digite o nome de um aluno: \")\n",
        "A3 = input(\"Digite o nome de um aluno: \")\n",
        "A4 = input(\"Digite o nome de um aluno: \")\n",
        "lista = [A1,A2,A3,A4]\n",
        "escolhido = choice(lista)\n",
        "print(\"O aluno escolhido foi: {}\".format(escolhido))"
      ]
    },
    {
      "cell_type": "markdown",
      "metadata": {
        "id": "-pI3dshT75d1"
      },
      "source": [
        "EX:024"
      ]
    },
    {
      "cell_type": "code",
      "execution_count": null,
      "metadata": {
        "colab": {
          "base_uri": "https://localhost:8080/"
        },
        "id": "tGV_DzWfEQFo",
        "outputId": "bcce9b62-6667-45cc-9ce1-34010387bbf9"
      },
      "outputs": [
        {
          "name": "stdout",
          "output_type": "stream",
          "text": [
            "Digite o nome de um aluno: ana\n",
            "Digite o nome de um aluno: lara\n",
            "Digite o nome de um aluno: matheus\n",
            "Digite o nome de um aluno: davi\n",
            "A ordem de apresentação e\n",
            "['ana', 'lara', 'davi', 'matheus']\n"
          ]
        }
      ],
      "source": [
        "from random import shuffle\n",
        "A1 = input(\"Digite o nome de um aluno: \")\n",
        "A2 = input(\"Digite o nome de um aluno: \")\n",
        "A3 = input(\"Digite o nome de um aluno: \")\n",
        "A4 = input(\"Digite o nome de um aluno: \")\n",
        "lista = [A1,A2,A3,A4]\n",
        "shuffle(lista)\n",
        "print (\"A ordem de apresentação e\")\n",
        "print(lista)"
      ]
    },
    {
      "cell_type": "markdown",
      "metadata": {
        "id": "P5OWkdmY76A5"
      },
      "source": [
        "EX:025"
      ]
    },
    {
      "cell_type": "code",
      "execution_count": null,
      "metadata": {
        "colab": {
          "base_uri": "https://localhost:8080/"
        },
        "id": "kFrF5bWHuQFZ",
        "outputId": "cbc3fd4e-4404-4120-f97c-5eb4247606ff"
      },
      "outputs": [
        {
          "name": "stdout",
          "output_type": "stream",
          "text": [
            "Digite seu nome completo: Matheus Passos Suave\n",
            "Analisando seu nome...\n",
            "seu nome em maisculo é MATHEUS PASSOS SUAVE \n",
            "Seu nome em minusculo é matheus passos suave \n",
            "Seu nome ao todo tem 20 letras\n",
            "Seu primeiro nome tem 7 letras\n",
            "Seu primeiro nome e: ['Matheus']\n"
          ]
        }
      ],
      "source": [
        "nome = str(input('Digite seu nome completo: ')).strip()\n",
        "print('Analisando seu nome...')\n",
        "print(\"seu nome em maisculo é {} \".format(nome.upper()))\n",
        "print('Seu nome em minusculo é {} '.format(nome.lower()))\n",
        "print('Seu nome ao todo tem {} letras'.format(len(nome)))\n",
        "print('Seu primeiro nome tem {} letras'.format(nome.find(' ')))\n",
        "n1 = nome.split()\n",
        "print('Seu primeiro nome e: {}'.format(n1[ : 1]))"
      ]
    },
    {
      "cell_type": "code",
      "execution_count": null,
      "metadata": {
        "id": "4PjbuXFK7Hpf"
      },
      "outputs": [],
      "source": []
    },
    {
      "cell_type": "markdown",
      "metadata": {
        "id": "M--nR2p_76on"
      },
      "source": [
        "EX:026"
      ]
    },
    {
      "cell_type": "code",
      "execution_count": null,
      "metadata": {
        "id": "bqpIpBoTucMl"
      },
      "outputs": [],
      "source": [
        "numero = input('Digite um numero: ')\n",
        "print('Analisando o numero {}'.format(numero))\n",
        "unidade = numero[3]\n",
        "dezena = numero[2]\n",
        "centa = numero[1]\n",
        "milhar = numero[0]\n",
        "print('o numero {} tem um total de {} unidades'.format(numero, unidade))\n",
        "print('o numero {} tem um total de {} dezenas'.format(numero, dezena))\n",
        "print('o numero {} tem um total de {} centas'.format(numero, centa))\n",
        "print('o numero {} tem um total de {} milhar'.format(numero, milhar))"
      ]
    },
    {
      "cell_type": "code",
      "execution_count": null,
      "metadata": {
        "colab": {
          "base_uri": "https://localhost:8080/"
        },
        "id": "fIO_CmcNu2yh",
        "outputId": "3350e439-1e0a-4f20-a522-c6096c072c8f"
      },
      "outputs": [
        {
          "name": "stdout",
          "output_type": "stream",
          "text": [
            "Digite um numero: 179326\n",
            "Analisando o numero 179326\n",
            "unidade 6\n",
            "Dezena 2\n",
            "Centena 3\n",
            "Milhar 9\n"
          ]
        }
      ],
      "source": [
        "numero = int(input('Digite um numero: '))\n",
        "\n",
        "u = numero // 1 % 10\n",
        "d = numero // 10 % 10\n",
        "c = numero // 100 % 10\n",
        "m = numero // 1000 % 10\n",
        "\n",
        "print('Analisando o numero {}'.format(numero))\n",
        "print('unidade {}'.format(u))\n",
        "print('Dezena {}'.format(d))\n",
        "print('Centena {}'.format(c))\n",
        "print('Milhar {}'.format(m))"
      ]
    },
    {
      "cell_type": "markdown",
      "metadata": {
        "id": "AJOrxRIE0tlN"
      },
      "source": [
        "EX:027"
      ]
    },
    {
      "cell_type": "code",
      "execution_count": null,
      "metadata": {
        "colab": {
          "base_uri": "https://localhost:8080/"
        },
        "id": "p6j5xdkmhU-V",
        "outputId": "ce7f8511-285a-45c4-f667-835325a5114e"
      },
      "outputs": [
        {
          "name": "stdout",
          "output_type": "stream",
          "text": [
            "Digite a cidade que voce nasceu?            santo         arotr\n",
            "True\n"
          ]
        }
      ],
      "source": [
        "cidade = str(input('Digite a cidade que voce nasceu? ')).strip()\n",
        "print(cidade[:5].upper() == \"SANTO\")"
      ]
    },
    {
      "cell_type": "markdown",
      "metadata": {
        "id": "Gu5Gb4Ud0xXM"
      },
      "source": [
        "EX:028"
      ]
    },
    {
      "cell_type": "code",
      "execution_count": null,
      "metadata": {
        "colab": {
          "base_uri": "https://localhost:8080/"
        },
        "id": "vkQV6m2qiiRN",
        "outputId": "93e74a4a-7ac2-4bf5-c918-9b84443ab58e"
      },
      "outputs": [
        {
          "name": "stdout",
          "output_type": "stream",
          "text": [
            "Digite seu nome completo: silva dos santos\n",
            "Seu nome tem silva? 0\n"
          ]
        }
      ],
      "source": [
        "nome = str(input('Digite seu nome completo: ')).strip()\n",
        "print('Seu nome tem silva? {}'.format(nome.find('silva')))"
      ]
    },
    {
      "cell_type": "code",
      "execution_count": null,
      "metadata": {
        "colab": {
          "base_uri": "https://localhost:8080/"
        },
        "id": "NF3gh5v3kMqs",
        "outputId": "dab455da-96b3-4441-9dc8-4bafe8f1e940"
      },
      "outputs": [
        {
          "name": "stdout",
          "output_type": "stream",
          "text": [
            "Digite seu nome completo: Matheus da SILva passos\n",
            "Seu nome tem silva ? True\n"
          ]
        }
      ],
      "source": [
        "nome = str(input('Digite seu nome completo: ')).strip().lower()\n",
        "print('Seu nome tem silva ? {}'.format('silva' in nome))"
      ]
    },
    {
      "cell_type": "markdown",
      "metadata": {
        "id": "4_LqCHci0xtE"
      },
      "source": [
        "EX:029"
      ]
    },
    {
      "cell_type": "code",
      "execution_count": null,
      "metadata": {
        "id": "iBPuSUgMnYzz"
      },
      "outputs": [],
      "source": [
        "frase = str(input('Digite uma frase: ')).strip().upper()\n",
        "print('A letra A apareceu {} vezes nessa frase.'.format(frase.count('A')))\n",
        "print('A letra A aparece pela primeira vez na posição {}'.format(frase.find('A')+1))\n",
        "print('A letra A apareceu pela ultma vez na posição {}'.format(frase.rfind('A')+1))\n"
      ]
    },
    {
      "cell_type": "markdown",
      "metadata": {
        "id": "Nuwn44Mo0x9t"
      },
      "source": [
        "EX:030"
      ]
    },
    {
      "cell_type": "code",
      "execution_count": null,
      "metadata": {
        "colab": {
          "base_uri": "https://localhost:8080/"
        },
        "id": "egpXuDiKp3xk",
        "outputId": "cc1248ee-8958-4650-d58b-73f543c22c70"
      },
      "outputs": [
        {
          "name": "stdout",
          "output_type": "stream",
          "text": [
            "Digite seu nome completo: Maahtu pdasdasd fdafsf dfasdfsdf sdfa\n",
            "Seu primeiro nome e Maahtu\n",
            "Seu ultimo nome e sdfa\n"
          ]
        }
      ],
      "source": [
        "nome = str(input('Digite seu nome completo: ')).strip()\n",
        "n = nome.split()\n",
        "print('Seu primeiro nome e {}'.format(n[0]))\n",
        "print('Seu ultimo nome e {}'.format(n[len(n)-1]))"
      ]
    },
    {
      "cell_type": "markdown",
      "metadata": {
        "id": "BL_r1jOK0zKm"
      },
      "source": [
        "EX:031"
      ]
    },
    {
      "cell_type": "code",
      "execution_count": null,
      "metadata": {
        "colab": {
          "base_uri": "https://localhost:8080/"
        },
        "id": "EqDH5WIBOyk-",
        "outputId": "bc3eecec-0d41-466c-a4d0-d797c468dc4b"
      },
      "outputs": [
        {
          "name": "stdout",
          "output_type": "stream",
          "text": [
            "---------------------------------------------\n",
            "advinhe o numero que eu estou pensando: 5\n",
            "---------------------------------------------\n",
            "Processando...\n",
            "Sabia que voce nao iria advinhar 😎😎 \n",
            "Eu estava pensando no numero 6\n"
          ]
        }
      ],
      "source": [
        "from random import randint\n",
        "from time import sleep\n",
        "computador = randint(0,10)\n",
        "print('---' * 15)\n",
        "jogador = int(input('advinhe o numero que eu estou pensando: '))\n",
        "print('---' * 15)\n",
        "print('Processando...')\n",
        "sleep(2)\n",
        "if jogador == computador:\n",
        "  print('Parabens, você ganhou 😁😁')\n",
        "else:\n",
        "  print('Sabia que voce nao iria advinhar 😎😎 ')\n",
        "print('Eu estava pensando no numero {}'.format(computador))\n"
      ]
    },
    {
      "cell_type": "markdown",
      "metadata": {
        "id": "diz5Gu060zVk"
      },
      "source": [
        "EX:032"
      ]
    },
    {
      "cell_type": "code",
      "execution_count": null,
      "metadata": {
        "colab": {
          "base_uri": "https://localhost:8080/"
        },
        "id": "n4A0DohiRS2n",
        "outputId": "9e74f058-287a-44e1-a842-8ef5f780998d"
      },
      "outputs": [
        {
          "name": "stdout",
          "output_type": "stream",
          "text": [
            "Qual velocidade voce esta dirigindo? 120\n",
            "MULTADO!, Voce excedeu o limite de 80KM/h\n",
            "Voce foi multado em R$ 280 reias\n"
          ]
        }
      ],
      "source": [
        "velocidade = int(input('Qual velocidade voce esta dirigindo? '))\n",
        "if velocidade <=80:\n",
        "  print('Tenha um otimo dia, dirija com segurança ')\n",
        "else:\n",
        "  print('MULTADO!, Voce excedeu o limite de 80KM/h')\n",
        "  print('Voce foi multado em R$ 280 reias')\n"
      ]
    },
    {
      "cell_type": "markdown",
      "metadata": {
        "id": "PpXLhT8I0zgN"
      },
      "source": [
        "EX:033"
      ]
    },
    {
      "cell_type": "code",
      "execution_count": null,
      "metadata": {
        "colab": {
          "base_uri": "https://localhost:8080/"
        },
        "id": "paXFyXn7ShlA",
        "outputId": "4ecfe347-e779-4da0-fb17-d46641c3ef68"
      },
      "outputs": [
        {
          "name": "stdout",
          "output_type": "stream",
          "text": [
            "Digite um numero:3\n",
            "O numero escolhido e Impar \n"
          ]
        }
      ],
      "source": [
        "numero = int(input('Digite um numero:'))\n",
        "if numero % 2 == 1:\n",
        "  print('O numero escolhido e Impar ')\n",
        "else:\n",
        "  print('O numero escolhido e Par ')"
      ]
    },
    {
      "cell_type": "markdown",
      "metadata": {
        "id": "5hUVR9Cr04e8"
      },
      "source": [
        "EX:034"
      ]
    },
    {
      "cell_type": "code",
      "execution_count": null,
      "metadata": {
        "colab": {
          "base_uri": "https://localhost:8080/"
        },
        "id": "G4ZNy2JCaMC_",
        "outputId": "e3fefd35-2336-43db-ba73-c48df11e53e2"
      },
      "outputs": [
        {
          "name": "stdout",
          "output_type": "stream",
          "text": [
            "Quantos km voce vai viajar? 200\n",
            "voce esta prestes a gasta R$300.0\n"
          ]
        }
      ],
      "source": [
        "viagem = int(input('Quantos km voce vai viajar? '))\n",
        "if viagem <= 150:\n",
        "  total = viagem * 1.75\n",
        "else:\n",
        "  total = viagem * 1.50\n",
        "print('voce esta prestes a gasta R${}'.format(total))"
      ]
    },
    {
      "cell_type": "markdown",
      "metadata": {
        "id": "gmSBC8Cs06X1"
      },
      "source": [
        "EX:035"
      ]
    },
    {
      "cell_type": "code",
      "execution_count": null,
      "metadata": {
        "colab": {
          "base_uri": "https://localhost:8080/"
        },
        "id": "YicY9cV1dJ-G",
        "outputId": "b4f358f6-e8d3-47d1-fcdf-6c1b6a61b884"
      },
      "outputs": [
        {
          "name": "stdout",
          "output_type": "stream",
          "text": [
            "Qual ano voce quer analisar?, digite 0 se quiser o ano atual: 1999\n",
            "O ano 1999 não e bissexto \n"
          ]
        }
      ],
      "source": [
        "from datetime import date\n",
        "ano = int(input('Qual ano voce quer analisar?, digite 0 se quiser o ano atual: '))\n",
        "if ano ==0:\n",
        "  ano = date.today().year\n",
        "if ano % 4 == 0 and ano % 100 != 0 or ano % 400 == 0:\n",
        "  print('O ano {} e bissexto'.format(ano))\n",
        "else:\n",
        "  print('O ano {} não e bissexto '.format(ano))\n"
      ]
    },
    {
      "cell_type": "markdown",
      "metadata": {
        "id": "dq20XmbJ07GF"
      },
      "source": [
        "EX:036"
      ]
    },
    {
      "cell_type": "code",
      "execution_count": null,
      "metadata": {
        "colab": {
          "base_uri": "https://localhost:8080/"
        },
        "id": "K-_WAnQifQBJ",
        "outputId": "dade4b14-d82b-405b-bd7a-908f754ba1ea"
      },
      "outputs": [
        {
          "name": "stdout",
          "output_type": "stream",
          "text": [
            "Digite o primeiro numero: 5\n",
            "Digite o segundo numero: 7\n",
            "Digite o terceiro numero: 2\n",
            "o menor numero e c\n",
            "o maior numero e b\n"
          ]
        }
      ],
      "source": [
        "a = int(input('Digite o primeiro numero: '))\n",
        "b = int(input('Digite o segundo numero: '))\n",
        "c = int(input('Digite o terceiro numero: '))\n",
        "if a<b and a<c:\n",
        "  print('o menor numero e a')\n",
        "if b<c and b<a:\n",
        "  print('o menor numero e b')\n",
        "if c<a and c<b:\n",
        "  print('o menor numero e c')\n",
        "\n",
        "\n",
        "if a>b and a>c:\n",
        "  print('o maior numero e a')\n",
        "if b>c and b>a:\n",
        "  print('o maior numero e b')\n",
        "if c>a and c>b:\n",
        "  print('o maior numero e c')"
      ]
    },
    {
      "cell_type": "markdown",
      "metadata": {
        "id": "sw2YFOT508AG"
      },
      "source": [
        "EX:037"
      ]
    },
    {
      "cell_type": "code",
      "execution_count": null,
      "metadata": {
        "colab": {
          "base_uri": "https://localhost:8080/"
        },
        "id": "bjZDXMctgVB6",
        "outputId": "c5bd4d17-87a1-464e-d75a-f14ffe0a85f8"
      },
      "outputs": [
        {
          "name": "stdout",
          "output_type": "stream",
          "text": [
            "Digite seu salario: 2000\n",
            "Seu salario agora e de 2200.0\n"
          ]
        }
      ],
      "source": [
        "salario = int(input('Digite seu salario: '))\n",
        "if salario < 1500:\n",
        "  total = salario * 1.15\n",
        "  print('Seu salario agora e de {}'.format(total))\n",
        "else:\n",
        "  total = salario * 1.1\n",
        "  print('Seu salario agora e de {}'.format(total))"
      ]
    },
    {
      "cell_type": "markdown",
      "metadata": {
        "id": "j-vgTF1D08se"
      },
      "source": [
        "EX:038"
      ]
    },
    {
      "cell_type": "code",
      "execution_count": null,
      "metadata": {
        "id": "15acOARkiMYZ"
      },
      "outputs": [],
      "source": [
        "a = int(input('primeiro segmento: '))\n",
        "b = int(input('segundo segmento: '))\n",
        "c = int(input('terceiro segmento: '))\n",
        "if a < b + c and b < c + a and c < b + a:\n",
        "  print('Os segmentos acima podem formar um triangulo! ')\n",
        "else:\n",
        "  print('Os segmentos acima nao podem formar um triangulo! ')"
      ]
    },
    {
      "cell_type": "markdown",
      "metadata": {
        "id": "w5W4HPPJ09cs"
      },
      "source": [
        "EX:039"
      ]
    },
    {
      "cell_type": "code",
      "execution_count": null,
      "metadata": {
        "colab": {
          "base_uri": "https://localhost:8080/"
        },
        "id": "6yZPrsjr1_H0",
        "outputId": "e6a27a3e-b3fe-4e8e-edca-3277b8bc7fb4"
      },
      "outputs": [
        {
          "name": "stdout",
          "output_type": "stream",
          "text": [
            "Qual o valor da casa? 20000\n",
            "Quanto voce recebe por mes? 12000\n",
            "Em quantas vezes voce vai querer dividir essa casa? 72\n",
            "Parabens, a casa custa 20000.0 com os 30% do seu salario que e equivalente a 3600.0 voce pode comprar essa casa\n"
          ]
        }
      ],
      "source": [
        "casa = float(input('Qual o valor da casa? '))\n",
        "salario = float(input('Quanto voce recebe por mes? '))\n",
        "dividir = int(input('Em quantas vezes voce vai querer dividir essa casa? '))\n",
        "minimo = salario * 0.30\n",
        "\n",
        "prestação = casa / dividir\n",
        "if prestação > (salario * 0.30):\n",
        "  print(' a casa custa {} e a parcela da casa nao pode ser maior que {}, infelimente vou ser obrigado a negar seu pedido'.format(casa, minimo))\n",
        "elif prestação < (salario *0.30):\n",
        "  print('Parabens, a casa custa {} com os 30% do seu salario que e equivalente a {} voce pode comprar essa casa'.format(casa,minimo))"
      ]
    },
    {
      "cell_type": "markdown",
      "metadata": {
        "id": "crv9wzwT0-LA"
      },
      "source": [
        "EX:040"
      ]
    },
    {
      "cell_type": "code",
      "execution_count": null,
      "metadata": {
        "colab": {
          "base_uri": "https://localhost:8080/"
        },
        "id": "n4x5l6rYxQr2",
        "outputId": "2cb5ea53-3374-4a62-f348-04a6853a5034"
      },
      "outputs": [
        {
          "name": "stdout",
          "output_type": "stream",
          "text": [
            "Digite um numero: 512\n",
            "Escolha uma converção: \n",
            "[1] Binario\n",
            "[2] Octal\n",
            "[3] Hexadecimal \n",
            "Escolha um numero: 3\n",
            "O numero 512 convertido em HEXADECIMAL e igual a 200\n"
          ]
        }
      ],
      "source": [
        "numero = int(input('Digite um numero: '))\n",
        "print('''Escolha uma converção:\n",
        "[1] Binario\n",
        "[2] Octal\n",
        "[3] Hexadecimal ''')\n",
        "opção = int(input('Escolha um numero: '))\n",
        "if opção == 1:\n",
        "  print('O numero {} convertido em BINARIO e igual a {}'.format(numero, bin(numero)[2:]))\n",
        "elif opção == 2:\n",
        "  print('O numero {} convertido em OCTADECIMAL e igual a {}'.format(numero, oct(numero)[2:]))\n",
        "elif opção == 3:\n",
        "  print('O numero {} convertido em HEXADECIMAL e igual a {}'.format(numero, hex(numero)[2:]))\n",
        "else:\n",
        "  print('Opção invalida, tente novamente')"
      ]
    },
    {
      "cell_type": "markdown",
      "metadata": {
        "id": "JT6Mq8dIBoaM"
      },
      "source": [
        "EX:041"
      ]
    },
    {
      "cell_type": "code",
      "execution_count": null,
      "metadata": {
        "colab": {
          "base_uri": "https://localhost:8080/"
        },
        "id": "xqaS0eBZCZmw",
        "outputId": "ed05df24-90dc-4f07-f175-5f0010486794"
      },
      "outputs": [
        {
          "name": "stdout",
          "output_type": "stream",
          "text": [
            "Digite um numero: 8\n",
            "Digite outro numero: 8\n",
            "Ambos os numeros sao iguais\n"
          ]
        }
      ],
      "source": [
        "primeiro = int(input('Digite um numero: '))\n",
        "segundo = int(input('Digite outro numero: '))\n",
        "if primeiro > segundo:\n",
        "  print('O primeiro numero escolhido e maior')\n",
        "elif segundo > primeiro:\n",
        "  print('O segundo numero e escolhido e maior')\n",
        "else:\n",
        "  print('Ambos os numeros sao iguais')"
      ]
    },
    {
      "cell_type": "markdown",
      "metadata": {
        "id": "Y-DOT-3vBoVh"
      },
      "source": [
        "EX:042"
      ]
    },
    {
      "cell_type": "code",
      "execution_count": null,
      "metadata": {
        "colab": {
          "base_uri": "https://localhost:8080/"
        },
        "id": "TKa_kGH9DSfo",
        "outputId": "875e4397-5eb9-4a21-f678-387186f1c52d"
      },
      "outputs": [
        {
          "name": "stdout",
          "output_type": "stream",
          "text": [
            "Ano de nascimento: 2010\n",
            "Quem nasceu em 2010 tem 14 anos em 2024\n",
            "ainda faltam 4 anos pra voce se alistar\n",
            "Seu alistamento sera em 2028\n"
          ]
        }
      ],
      "source": [
        "from datetime import date\n",
        "atual = date.today().year\n",
        "\n",
        "nasc = int(input('Ano de nascimento: '))\n",
        "idade = atual - nasc\n",
        "print('Quem nasceu em {} tem {} anos em {}'.format(nasc,idade, atual))\n",
        "if idade == 18:\n",
        "  print('Voce deve se alistar IMEDIATAMENTE')\n",
        "elif idade < 18:\n",
        "  saldo = 18 - idade\n",
        "  falta = atual + saldo\n",
        "  print('ainda faltam {} anos pra voce se alistar'.format(saldo))\n",
        "  print('Seu alistamento sera em {}'.format(falta))\n",
        "else:\n",
        "  saldo = idade - 18\n",
        "  sobra = atual - saldo\n",
        "  print('Voce deveria ter se alistado no ano de {}'.format(saldo))\n",
        "  print('Seu alistamento foi em {}'.format(sobra))"
      ]
    },
    {
      "cell_type": "markdown",
      "metadata": {
        "id": "m3Ad4-tbBoTS"
      },
      "source": [
        "EX:043"
      ]
    },
    {
      "cell_type": "code",
      "execution_count": null,
      "metadata": {
        "colab": {
          "base_uri": "https://localhost:8080/"
        },
        "id": "IQXl_fQzWCTE",
        "outputId": "9175fdf3-149d-4d98-cf1d-493b31224f55"
      },
      "outputs": [
        {
          "name": "stdout",
          "output_type": "stream",
          "text": [
            "Primeira nota: 2\n",
            "Segunda nota: 3\n",
            "Tirando 2.0 e 3.0 sua soma final ficou de 2.5, Voce esta REPROVADO! \n"
          ]
        }
      ],
      "source": [
        "n1 = float(input('Primeira nota: '))\n",
        "n2 = float(input('Segunda nota: '))\n",
        "soma = (n1 + n2) / 2\n",
        "if soma > 7:\n",
        "  print('Tirando {} e {} sua soma final ficou de {}, Parabens voce foi APROVADO'.format(n1, n2, soma))\n",
        "elif soma > 4:\n",
        "  print('Tirando {} e {} sua soma final ficou de {}, Voce esta de RECUPERAÇÃO! '.format(n1, n2, soma))\n",
        "else:\n",
        "  print('Tirando {} e {} sua soma final ficou de {}, Voce esta REPROVADO! '.format(n1, n2, soma))"
      ]
    },
    {
      "cell_type": "markdown",
      "metadata": {
        "id": "IKxajDwWBoM5"
      },
      "source": [
        "EX:044"
      ]
    },
    {
      "cell_type": "code",
      "execution_count": null,
      "metadata": {
        "colab": {
          "base_uri": "https://localhost:8080/"
        },
        "id": "TRvzeukBXH4J",
        "outputId": "2f8fa112-710b-4de4-e7d8-9c930634acfc"
      },
      "outputs": [
        {
          "name": "stdout",
          "output_type": "stream",
          "text": [
            "Digite seu ano de nascimento: 1990\n",
            "Voce e juniot II\n"
          ]
        }
      ],
      "source": [
        "from datetime import date\n",
        "atual = date.today().year\n",
        "nascimento = int(input('Digite seu ano de nascimento: '))\n",
        "idade = atual - nascimento\n",
        "if idade < 10:\n",
        "  print('Voce é junior I')\n",
        "elif idade > 10:\n",
        "  print('Voce e juniot II')\n",
        "elif idade > 20:\n",
        "  print('Voce e Senior I')\n",
        "elif idade > 30:\n",
        "  print('Voce e Senior II')\n",
        "else:\n",
        "  print('Voce zerou o jogo')"
      ]
    },
    {
      "cell_type": "markdown",
      "metadata": {
        "id": "KytSdL8HBoQJ"
      },
      "source": [
        "EX:045"
      ]
    },
    {
      "cell_type": "code",
      "execution_count": null,
      "metadata": {
        "colab": {
          "base_uri": "https://localhost:8080/"
        },
        "id": "1McGbjr3dhKp",
        "outputId": "aad5edb7-f2fb-4135-894a-d03b23fb4711"
      },
      "outputs": [
        {
          "name": "stdout",
          "output_type": "stream",
          "text": [
            "-------------\n",
            "LOJA SUAVE\n",
            "-------------\n",
            "Preço da compra: 1000\n",
            "FORMA DE PAGAMENTO\n",
            "[1] A VISTA\n",
            "[2] CARTÃO\n",
            "[3] 2X NO CARTÃO\n",
            "[4] 3X OU MAIS NO CARTÃO\n",
            "Qual opção vai querer? \n",
            "Escolha um numero: 4\n",
            "O valor final vai ficar 1200.0\n"
          ]
        }
      ],
      "source": [
        "print('-------------')\n",
        "print('LOJA SUAVE')\n",
        "print('-------------')\n",
        "preço = int(input('Preço da compra: '))\n",
        "print('''FORMA DE PAGAMENTO\n",
        "[1] A VISTA\n",
        "[2] CARTÃO\n",
        "[3] 2X NO CARTÃO\n",
        "[4] 3X OU MAIS NO CARTÃO\n",
        "Qual opção vai querer? ''')\n",
        "\n",
        "f1 = preço * 0.90\n",
        "f2 = preço * 1.00\n",
        "f3 = preço * 1.10\n",
        "f4 = preço * 1.20\n",
        "\n",
        "\n",
        "numero = int(input('Escolha um numero: '))\n",
        "\n",
        "if numero == 1:\n",
        "  print('O valor final via ficar {}'.format(f1))\n",
        "elif numero == 2:\n",
        "  print('O valor final vai ficar {}'.format(f2))\n",
        "elif numero == 3:\n",
        "  print('O valor final vai ficar {}'.format(f3))\n",
        "elif numero == 4:\n",
        "  print('O valor final vai ficar {}'.format(f4))\n",
        "else:\n",
        "  print('Essa opção não existe')\n",
        "\n",
        "\n",
        "\n",
        "\n",
        "\n",
        "\n"
      ]
    },
    {
      "cell_type": "markdown",
      "metadata": {
        "id": "5qIaltdkBoKq"
      },
      "source": [
        "EX:046"
      ]
    },
    {
      "cell_type": "code",
      "execution_count": null,
      "metadata": {
        "colab": {
          "base_uri": "https://localhost:8080/"
        },
        "id": "2mAwdm-6wyhh",
        "outputId": "4e3ebbe6-a472-4e23-9dd2-2a5217b7b039"
      },
      "outputs": [
        {
          "name": "stdout",
          "output_type": "stream",
          "text": [
            "suas opções\n",
            "[0] Pedra\n",
            "[1] Papel\n",
            "[2] Tesoura \n",
            "Qual a sua jogada 0\n",
            "O computador escolheu Papel\n",
            "O jogador escolheu Pedra\n",
            "A maquina venceu\n"
          ]
        }
      ],
      "source": [
        "from random import randint\n",
        "itens = ('Pedra', 'Papel', 'Tesoura')\n",
        "computador = randint(0, 2)\n",
        "print('''suas opções\n",
        "[0] Pedra\n",
        "[1] Papel\n",
        "[2] Tesoura ''')\n",
        "jogador = int(input('Qual a sua jogada '))\n",
        "print('O computador escolheu {}'.format(itens[computador]))\n",
        "print('O jogador escolheu {}'.format(itens[jogador]))\n",
        "if computador == 0:\n",
        "  if jogador == 0:\n",
        "    print('O jogo terminou empatado')\n",
        "  elif jogador == 1:\n",
        "    print('O jogador venceu')\n",
        "  elif jogador == 2:\n",
        "    print('A maquina venceu')\n",
        "\n",
        "\n",
        "elif computador == 1:\n",
        "  if jogador == 0:\n",
        "    print('A maquina venceu')\n",
        "  elif jogador == 1:\n",
        "    print('O jogo terminou empatado')\n",
        "  elif jogador == 2:\n",
        "    print('O jogador venceu')\n",
        "\n",
        "elif computador ==2:\n",
        "  if jogador == 0:\n",
        "    print('O jogador venceu')\n",
        "  elif jogador == 1:\n",
        "    print('A maquina venceu')\n",
        "  elif jogador == 2:\n",
        "    print('O jogo terminou empatado')"
      ]
    },
    {
      "cell_type": "markdown",
      "metadata": {
        "id": "74AHYnzqBoIB"
      },
      "source": [
        "EX:047"
      ]
    },
    {
      "cell_type": "code",
      "execution_count": null,
      "metadata": {
        "colab": {
          "base_uri": "https://localhost:8080/"
        },
        "id": "kxqyvnZwrMg9",
        "outputId": "71043ffb-48d1-47fe-8c25-0752869d1f72"
      },
      "outputs": [
        {
          "name": "stdout",
          "output_type": "stream",
          "text": [
            "10\n",
            "9\n",
            "8\n",
            "7\n",
            "6\n",
            "5\n",
            "4\n",
            "3\n",
            "2\n",
            "1\n",
            "BUM, EXPLOSÕES, BUM\n"
          ]
        }
      ],
      "source": [
        "from time import sleep\n",
        "for c in range(10 , 0 , -1):\n",
        "  print(c)\n",
        "  sleep(0.5)\n",
        "print('BUM, EXPLOSÕES, BUM')"
      ]
    },
    {
      "cell_type": "markdown",
      "metadata": {
        "id": "jgc-DikUBoFt"
      },
      "source": [
        "EX:048"
      ]
    },
    {
      "cell_type": "code",
      "execution_count": null,
      "metadata": {
        "id": "_vqum4NGukqb"
      },
      "outputs": [],
      "source": [
        "for c in range (0, 85, 2):\n",
        "  print(c)\n",
        "print ('acabou')"
      ]
    },
    {
      "cell_type": "markdown",
      "metadata": {
        "id": "sBUTyAh6BoDh"
      },
      "source": [
        "EX:049"
      ]
    },
    {
      "cell_type": "code",
      "execution_count": null,
      "metadata": {
        "colab": {
          "base_uri": "https://localhost:8080/"
        },
        "id": "SwNozB_Vu9dp",
        "outputId": "a95c59f3-a2d0-4119-ef11-7fed71158458"
      },
      "outputs": [
        {
          "name": "stdout",
          "output_type": "stream",
          "text": [
            "A soma dos 83 numeros foi de 20667\n"
          ]
        }
      ],
      "source": [
        "soma = 0\n",
        "numero = 0\n",
        "for c in range (1, 501, 2):\n",
        "  if c % 3 == 0:\n",
        "    soma = soma + c\n",
        "    numero = numero + 1\n",
        "print('A soma dos {} numeros foi de {}'.format(numero , soma))\n"
      ]
    },
    {
      "cell_type": "markdown",
      "metadata": {
        "id": "RbHkRsw1BoBW"
      },
      "source": [
        "EX:050"
      ]
    },
    {
      "cell_type": "code",
      "execution_count": null,
      "metadata": {
        "colab": {
          "base_uri": "https://localhost:8080/"
        },
        "id": "ZZqged3ZxgjX",
        "outputId": "fb793a55-795c-4712-f7c1-d3010e23c6f9"
      },
      "outputs": [
        {
          "name": "stdout",
          "output_type": "stream",
          "text": [
            "Escolha um numero: 20\n",
            "20 x 1 = 20\n",
            "20 x 2 = 40\n",
            "20 x 3 = 60\n",
            "20 x 4 = 80\n",
            "20 x 5 = 100\n",
            "20 x 6 = 120\n",
            "20 x 7 = 140\n",
            "20 x 8 = 160\n",
            "20 x 9 = 180\n",
            "20 x 10 = 200\n"
          ]
        }
      ],
      "source": [
        "variavel = 0\n",
        "n = int(input('Escolha um numero: '))\n",
        "for c in range(1 , 11):\n",
        "  variavel = variavel + 1\n",
        "  print('{} x {} = {}'.format(n , variavel , n*c))"
      ]
    },
    {
      "cell_type": "markdown",
      "metadata": {
        "id": "Y0MeN75kBn_I"
      },
      "source": [
        "EX:051"
      ]
    },
    {
      "cell_type": "code",
      "execution_count": null,
      "metadata": {
        "colab": {
          "base_uri": "https://localhost:8080/"
        },
        "id": "6y0L-hWi0XQk",
        "outputId": "e7ab03ee-a03f-46d2-8201-af05c5d320f6"
      },
      "outputs": [
        {
          "name": "stdout",
          "output_type": "stream",
          "text": [
            "Digite um numero: 12\n",
            "Digite um numero: 15\n",
            "Digite um numero: 18\n",
            "Digite um numero: 9\n",
            "Digite um numero: 10\n",
            "Digite um numero: 5\n",
            "A soma dos 3 numeros da um total de 40 \n"
          ]
        }
      ],
      "source": [
        "numero = 0\n",
        "soma = 0\n",
        "for c in range(0, 6):\n",
        "  s = int(input('Digite um numero: '))\n",
        "  if s % 2 == 0:\n",
        "    soma = soma + s\n",
        "    numero = numero + 1\n",
        "print('A soma dos {} numeros da um total de {} '.format(numero, soma))\n"
      ]
    },
    {
      "cell_type": "markdown",
      "metadata": {
        "id": "smLT_26YBn8o"
      },
      "source": [
        "EX:052"
      ]
    },
    {
      "cell_type": "code",
      "execution_count": null,
      "metadata": {
        "id": "X0EmrxHoW4YL"
      },
      "outputs": [],
      "source": [
        "primeiro = int(input('Primeiro termo: '))\n",
        "razao = int(input('Razão: '))\n",
        "decimo = primeiro + (10 - 1)* razao\n",
        "for c in range (primeiro, decimo + razao, razao):\n",
        "  print ('{}'.format(c), end = ' -> ')\n",
        "print('FIM')"
      ]
    },
    {
      "cell_type": "markdown",
      "metadata": {
        "id": "JjtX6fd0Bn6U"
      },
      "source": [
        "EX:053"
      ]
    },
    {
      "cell_type": "code",
      "execution_count": null,
      "metadata": {
        "id": "y0AuiZfFa2Rz"
      },
      "outputs": [],
      "source": [
        "from datetime import date\n",
        "atual = date.today().year\n",
        "maior = 0\n",
        "menor = 0\n",
        "for c in range(1, 8):\n",
        "  nasc = int(input('Digite o ano do seu nascimento: '))\n",
        "  idade = atual - nasc\n",
        "  if idade >= 18:\n",
        "    maior = maior + 1\n",
        "  else:\n",
        "    menor = menor + 1\n",
        "print('Nesse grupo temos um total de {} pessoas de maior e {} de menor'.format(maior,menor))\n"
      ]
    },
    {
      "cell_type": "markdown",
      "metadata": {
        "id": "xmpnVDjGBn3a"
      },
      "source": [
        "EX:054"
      ]
    },
    {
      "cell_type": "code",
      "execution_count": null,
      "metadata": {
        "id": "cISCGvQtofcZ"
      },
      "outputs": [],
      "source": [
        "maior = 0\n",
        "menor = 0\n",
        "for c in range(1,6):\n",
        "  peso = float(input('Digite o peso:' ))\n",
        "  if c == 1:\n",
        "    maior = peso\n",
        "    menor = peso\n",
        "  else:\n",
        "    if peso > maior:\n",
        "      maior = peso\n",
        "    if peso < menor:\n",
        "      menor = peso\n",
        "print('O maior peso lido foi de {} KG'.format(maior))\n",
        "print('O menor peso lido foi de {} KG'.format(menor))"
      ]
    },
    {
      "cell_type": "markdown",
      "metadata": {
        "id": "TP0NncR5Bn1p"
      },
      "source": [
        "EX:055"
      ]
    },
    {
      "cell_type": "code",
      "execution_count": null,
      "metadata": {
        "id": "zVuikkdCufAe"
      },
      "outputs": [],
      "source": [
        "Midade = 0\n",
        "maioridadehomen = 0\n",
        "nomevelho = ''\n",
        "totmulher20 = 0\n",
        "for c in range(1, 5):\n",
        "    nome = str(input('Digite seu nome: ')).strip()\n",
        "    idade = int(input('Digite sua idade: '))\n",
        "    sexo = str(input('Qual seu sexo: [M/F]')).strip()\n",
        "    Midade += idade\n",
        "    if sexo in 'Mm':\n",
        "        if c == 1 or idade > maioridadehomen:\n",
        "            maioridadehomen = idade\n",
        "            nomevelho = nome\n",
        "    if sexo in 'Ff' and idade > 20:\n",
        "            totmulher20 = totmulher20 + 16\n",
        "\n",
        "mediaI = Midade / c\n",
        "print('A idade média do grupo é de {}'.format(mediaI))\n",
        "print('O homem mais velho tem {} anos e se chama {}'.format(maioridadehomen, nomevelho))\n",
        "print('O total de mulher com mais de 20 anos foi de {}'.format(totmulher20))\n"
      ]
    },
    {
      "cell_type": "markdown",
      "metadata": {
        "id": "nRe0bcxXBnzY"
      },
      "source": [
        "EX:056"
      ]
    },
    {
      "cell_type": "code",
      "execution_count": null,
      "metadata": {
        "id": "vdmBpAWMyAtU"
      },
      "outputs": [],
      "source": [
        "sexo = str(input('Digite seu sexo[M/F]')).strip().upper()[0]\n",
        "while sexo not in 'MF':\n",
        "  sexo = str(input('Dados invalidos, Por favor, Informe seu sexo: ')).strip().upper()[0]\n",
        "print('Sexo {} registrado'.format(sexo))\n"
      ]
    },
    {
      "cell_type": "markdown",
      "metadata": {
        "id": "VUn4wcxkBnwh"
      },
      "source": [
        "EX:057"
      ]
    },
    {
      "cell_type": "code",
      "execution_count": null,
      "metadata": {
        "id": "vAiL_Dz4dxJD"
      },
      "outputs": [],
      "source": [
        "from random import randint\n",
        "print('Sou seu computador')\n",
        "print('Acabei de pensar em um numero de 0 a 10')\n",
        "print('Sera que voce consegue advinhar qual foi? ')\n",
        "palpite = int(input('Qual seu palpite? '))\n",
        "computador = randint(0,10)\n",
        "tentativas  = 1\n",
        "while palpite != computador:\n",
        "  tentativas = tentativas + 1\n",
        "  if palpite > computador:\n",
        "    palpite = int(input('Menos...tente outra vez: '))\n",
        "  elif palpite < computador:\n",
        "    palpite = int(input('Mais...tente outra vez: '))\n",
        "print('Parabens voce ganhou com um total de {} tentativas '.format(tentativas))"
      ]
    },
    {
      "cell_type": "markdown",
      "metadata": {
        "id": "V9EaSkZ4BnuA"
      },
      "source": [
        "EX:058"
      ]
    },
    {
      "cell_type": "code",
      "execution_count": null,
      "metadata": {
        "id": "nvWAy5SIkWCG"
      },
      "outputs": [],
      "source": [
        "n1 = int(input('Digite um numero: '))\n",
        "n2 = int(input('Digite um numero: '))\n",
        "print('[1] Somar')\n",
        "print('[2] Multiplicar')\n",
        "print('[3] Maior')\n",
        "print('[4] Novos numeros')\n",
        "print('[5] Sair do programa')\n",
        "\n",
        "\n",
        "escolha = 0\n",
        "\n",
        "\n",
        "while escolha != 5:\n",
        "  escolha = int(input('Escolha um numero: '))\n",
        "  if escolha == 1:\n",
        "    soma = n1 + n2\n",
        "    print('A soma de {} com {} e de {}'.format(n1, n2, soma))\n",
        "  elif escolha == 2:\n",
        "    mult = n1 * n2\n",
        "    print('A multiplicação de {} com {} e {} '.format(n1, n2, mult))\n",
        "  elif escolha == 3:\n",
        "      if n1 > n2:\n",
        "        print('O maior numero entre {} e {} é {} '.format(n1, n2, n1 ))\n",
        "      elif n1 < n2:\n",
        "        print('O maior numero entre {} e {} é {} '.format(n1, n2, n2))\n",
        "  elif escolha == 4:\n",
        "    n1 = int(input('Digite um numero: '))\n",
        "    n2 = int(input('Digite um numero: '))\n",
        "  elif escolha == 5:\n",
        "    print('Voce saiu do programa')\n",
        "  else:\n",
        "    print('Opção invalidade tente novamente ')\n"
      ]
    },
    {
      "cell_type": "markdown",
      "metadata": {
        "id": "66EfxawgBnq4"
      },
      "source": [
        "EX:059"
      ]
    },
    {
      "cell_type": "code",
      "execution_count": null,
      "metadata": {
        "colab": {
          "base_uri": "https://localhost:8080/"
        },
        "id": "3RY58wogsU-h",
        "outputId": "98986561-764c-4238-99fa-64286dd180fd"
      },
      "outputs": [
        {
          "name": "stdout",
          "output_type": "stream",
          "text": [
            "Digite um numero qualquer: 5\n",
            "O fatorial de 5 é 120\n"
          ]
        }
      ],
      "source": [
        "from math import factorial\n",
        "n = int(input('Digite um numero qualquer: '))\n",
        "f = factorial (n)\n",
        "print('O fatorial de {} é {}'.format(n,f))"
      ]
    },
    {
      "cell_type": "markdown",
      "metadata": {
        "id": "lx7nWyLfBnmZ"
      },
      "source": [
        "EX:060"
      ]
    },
    {
      "cell_type": "code",
      "execution_count": null,
      "metadata": {
        "colab": {
          "base_uri": "https://localhost:8080/"
        },
        "id": "uW5mO0tG3RbL",
        "outputId": "809075cb-e400-4a1f-d54f-284bb8bbf054"
      },
      "outputs": [
        {
          "name": "stdout",
          "output_type": "stream",
          "text": [
            "Quantos termos voce quer mostrar: 10\n",
            "0 -> 1  1 -> 2 -> 3 -> 5 -> 8 -> 13 -> 21 -> 34 -> FIM\n"
          ]
        }
      ],
      "source": [
        "n = int(input('Quantos termos voce quer mostrar: '))\n",
        "t1 = 0\n",
        "t2 = 1\n",
        "cont = 3\n",
        "print('{} -> {} '.format(t1, t2), end= \" \")\n",
        "\n",
        "while cont <= n:\n",
        "  t3 = t1 + t2\n",
        "  print('{}'.format(t3),end = ' -> ')\n",
        "  t1 = t2\n",
        "  t2 = t3\n",
        "  cont = cont + 1\n",
        "print('FIM')"
      ]
    },
    {
      "cell_type": "markdown",
      "metadata": {
        "id": "qAq4v0lXBnh1"
      },
      "source": [
        "EX:061"
      ]
    },
    {
      "cell_type": "code",
      "execution_count": null,
      "metadata": {
        "colab": {
          "base_uri": "https://localhost:8080/"
        },
        "id": "zM-_HdLihJi9",
        "outputId": "8d22bd97-39b8-42a5-9492-bb9595e8b834"
      },
      "outputs": [
        {
          "name": "stdout",
          "output_type": "stream",
          "text": [
            "Digite um numero[999 para parar]85\n",
            "Digite outro numero: 77\n",
            "Digite outro numero: 62\n",
            "Digite outro numero: 999\n",
            "Voce digitou 224 numeros e a soma entre eles foi de 3\n"
          ]
        }
      ],
      "source": [
        "numero = 0\n",
        "s = 0\n",
        "n = int(input('Digite um numero[999 para parar]'))\n",
        "while n != 999:\n",
        "  s = s + n\n",
        "  numero = numero + 1\n",
        "  n = int(input('Digite outro numero: '))\n",
        "print('Voce digitou {} numeros e a soma entre eles foi de {}'.format(s, numero))"
      ]
    },
    {
      "cell_type": "markdown",
      "metadata": {
        "id": "vKdSUENnBnfg"
      },
      "source": [
        "EX:062"
      ]
    },
    {
      "cell_type": "code",
      "execution_count": null,
      "metadata": {
        "id": "iGrPcDrmjyx8"
      },
      "outputs": [],
      "source": [
        "resp = 'S'\n",
        "numerosdigitados = 0\n",
        "maior = 0\n",
        "soma = 0\n",
        "menor = num\n",
        "\n",
        "\n",
        "while resp in 'Ss':\n",
        "  num = int(input('Digite um numero: '))\n",
        "  numerosdigitados = numerosdigitados + 1\n",
        "  soma = num + soma\n",
        "  if num > maior:\n",
        "      maior = num\n",
        "  if num < menor:\n",
        "      menor = num\n",
        "\n",
        "  resp = str(input('Quer continuar[S/N]')).upper().strip()[0]\n",
        "\n",
        "media = soma / 2\n",
        "\n",
        "print('Voce Digitou {} numeros a media entre eles e {}'.format(numerosdigitados, media))\n",
        "print('O maior numero entre eles é {} e o menor é {}'.format(maior, menor))"
      ]
    },
    {
      "cell_type": "markdown",
      "metadata": {
        "id": "7F4Cd_abBncp"
      },
      "source": [
        "EX:063"
      ]
    },
    {
      "cell_type": "code",
      "execution_count": null,
      "metadata": {
        "colab": {
          "base_uri": "https://localhost:8080/"
        },
        "id": "9hNUOcg9v6sO",
        "outputId": "b76e5c42-fa77-4f43-8a52-b3595b267a56"
      },
      "outputs": [
        {
          "name": "stdout",
          "output_type": "stream",
          "text": [
            "Digite um numero: 8\n",
            "Digite um numero: 6\n",
            "Digite um numero: 3\n",
            "Digite um numero: 999\n",
            "A soma dos numero e de 17\n"
          ]
        }
      ],
      "source": [
        "s = 0\n",
        "n = int(input('Digite um numero: '))\n",
        "while n != 999:\n",
        "  s = s + n\n",
        "  n = int(input('Digite um numero: '))\n",
        "  if n == 999:\n",
        "    break\n",
        "print('A soma dos numero e de {}'.format(s))"
      ]
    },
    {
      "cell_type": "markdown",
      "metadata": {
        "id": "WVQK_NFYBnaQ"
      },
      "source": [
        "EX:064"
      ]
    },
    {
      "cell_type": "code",
      "execution_count": null,
      "metadata": {
        "id": "JY22NHtaxXVH"
      },
      "outputs": [],
      "source": [
        "n = int(input('Qual numero voce quer ver a tabuada: '))\n",
        "while n >= 0:\n",
        "  for c in range(1, 11):\n",
        "    vezes = n * c\n",
        "    print('{} x {} = {}'.format(n, c, vezes))\n",
        "  n = int(input('Quer ver a tabuada de outro valor: '))\n",
        "print('ACABOU')\n"
      ]
    },
    {
      "cell_type": "markdown",
      "metadata": {
        "id": "pUFe1JBQBnXY"
      },
      "source": [
        "EX:065"
      ]
    },
    {
      "cell_type": "code",
      "execution_count": null,
      "metadata": {
        "colab": {
          "base_uri": "https://localhost:8080/"
        },
        "id": "C15vh1PizxEW",
        "outputId": "0cedea60-df60-443a-c249-48a4bc9465fe"
      },
      "outputs": [
        {
          "name": "stdout",
          "output_type": "stream",
          "text": [
            "Digite um valor:5\n",
            "[P/I]p\n",
            "Voce jogou 5 e o computador 5 resultado foi 10 que é \n"
          ]
        }
      ],
      "source": [
        "from random import randint\n",
        "n = int(input('Digite um valor:'))\n",
        "escolha = str(input('[P/I]')).strip().upper()[0]\n",
        "computador = randint(1, 10)\n",
        "resultado = n + computador\n",
        "PI = resultado % 2\n",
        "\n",
        "\n",
        "\n",
        "if (PI == 0 and escolha == 'P') or (PI == 1 and escolha == 'I'):\n",
        "  print('Voce jogou {} e o computador {} resultado foi {} que é par'.format(n,computador, resultado))\n",
        "else:\n",
        "  print('Voce jogou {} e o computador {} resultado foi {} que é impar'.format(n,computador, resultado))\n"
      ]
    },
    {
      "cell_type": "markdown",
      "metadata": {
        "id": "1hSJ-RiCBnVC"
      },
      "source": [
        "EX:066"
      ]
    },
    {
      "cell_type": "code",
      "execution_count": null,
      "metadata": {
        "id": "lJsMptIVefsH"
      },
      "outputs": [],
      "source": [
        "idade = 0\n",
        "masc = 0\n",
        "fem = 0\n",
        "maiores_idade = 0\n",
        "\n",
        "while True:\n",
        "    idade = int(input('Idade: '))\n",
        "    if idade >= 18:\n",
        "        maiores_idade += 1\n",
        "\n",
        "    sexo = ' '\n",
        "    while sexo not in 'MF':\n",
        "        sexo = input('Sexo [M/F]: ').strip().upper()\n",
        "        if sexo == 'M':\n",
        "            masc += 1\n",
        "        elif sexo == 'F':\n",
        "            fem += 1\n",
        "\n",
        "    resp = ' '\n",
        "    while resp not in 'SN':\n",
        "        resp = input('Quer continuar? [S/N]: ').strip().upper()\n",
        "        if resp == 'N':\n",
        "            print('No total temos {} homens, {} mulheres e {} maiores de idade.'.format(masc, fem, maiores_idade))\n",
        "    if resp == 'N':\n",
        "        break\n"
      ]
    },
    {
      "cell_type": "markdown",
      "metadata": {
        "id": "Jd78bqvJBnSe"
      },
      "source": [
        "EX:067"
      ]
    },
    {
      "cell_type": "code",
      "execution_count": null,
      "metadata": {
        "id": "IoExgg3JleRT"
      },
      "outputs": [],
      "source": [
        "total = 0\n",
        "caro = 0\n",
        "barato = float('inf')\n",
        "\n",
        "while True:\n",
        "    produto = input('Nome do Produto: ')\n",
        "    preço = float(input('Preço do Produto: '))\n",
        "    total += preço\n",
        "\n",
        "    if preço >= 1000:\n",
        "        caro += 1\n",
        "\n",
        "    if preço < barato:\n",
        "        barato = preço\n",
        "\n",
        "    continuar = input('Quer continuar [S/N]: ').strip().upper()\n",
        "    while continuar not in 'SN':\n",
        "        continuar = input('Quer continuar [S/N]: ').strip().upper()\n",
        "\n",
        "    if continuar == 'N':\n",
        "        print('O total comprado foi de R$', total)\n",
        "        print('Foram', caro, 'produtos custando mais de R$ 1000')\n",
        "        print('O produto mais barato custou R$', barato)\n",
        "        break\n",
        "\n",
        "\n",
        "\n"
      ]
    },
    {
      "cell_type": "markdown",
      "metadata": {
        "id": "N0ta3b3rBnPR"
      },
      "source": [
        "EX:068"
      ]
    },
    {
      "cell_type": "code",
      "execution_count": null,
      "metadata": {
        "colab": {
          "base_uri": "https://localhost:8080/"
        },
        "id": "6NcbRPtzzTnf",
        "outputId": "c195f7fa-ca73-4363-bfb6-cc21fed19ffb"
      },
      "outputs": [
        {
          "name": "stdout",
          "output_type": "stream",
          "text": [
            "Digite o valor que voce quer sacar: 584\n",
            "O total de 11 cedulas e de  R$50\n",
            "O total de 1 cedulas e de  R$20\n",
            "O total de 1 cedulas e de  R$10\n",
            "O total de 4 cedulas e de  R$1\n"
          ]
        }
      ],
      "source": [
        "valor = int(input('Digite o valor que voce quer sacar: '))\n",
        "total = valor\n",
        "ced = 50\n",
        "totced = 0\n",
        "while True:\n",
        "  if total >= ced:\n",
        "    total -= ced\n",
        "    totced += 1\n",
        "  else:\n",
        "    if totced > 0:\n",
        "      print('O total de {} cedulas e de  R${}'.format(totced, ced))\n",
        "      if ced == 50:\n",
        "        ced = 20\n",
        "      elif ced == 20:\n",
        "        ced = 10\n",
        "      elif ced == 10:\n",
        "        ced = 1\n",
        "      totced = 0\n",
        "      if total == 0:\n",
        "        break"
      ]
    },
    {
      "cell_type": "markdown",
      "metadata": {
        "id": "rVnehW50Bm-V"
      },
      "source": [
        "EX:069"
      ]
    },
    {
      "cell_type": "code",
      "execution_count": null,
      "metadata": {
        "id": "VLKDv3luFfbL"
      },
      "outputs": [],
      "source": [
        "cont = ('zero','um','dois','tres','quatro','cinco','seis',\n",
        "        'sete','oito','nove','dez','onze','doze','treze',\n",
        "        'quatorze','quinze','dezesseis','dezessete',\n",
        "        'dezoito','dezenove','vinte')\n",
        "\n",
        "while True:\n",
        "    n = int(input('Digite um número entre 0 e 20: '))\n",
        "    if 0 <= n <= 20:\n",
        "        print('Você digitou o número', cont[n])\n",
        "    else:\n",
        "        print('Entre 0 e 20...')\n",
        "        continue\n",
        "\n",
        "    resp = input('Deseja continuar? [S/N]: ').upper()\n",
        "    if resp != 'S':\n",
        "        print('O programa se encerrou.')\n",
        "        break\n",
        "\n"
      ]
    },
    {
      "cell_type": "markdown",
      "metadata": {
        "id": "DZurbDHYBnKC"
      },
      "source": [
        "EX:070"
      ]
    },
    {
      "cell_type": "code",
      "execution_count": null,
      "metadata": {
        "colab": {
          "base_uri": "https://localhost:8080/"
        },
        "id": "AHEmDaBReNJA",
        "outputId": "86f9d88a-5df8-47fb-aeee-87c83f2ddad2"
      },
      "outputs": [
        {
          "name": "stdout",
          "output_type": "stream",
          "text": [
            "('flamengo', 'vasco', 'botafogo', 'avai', 'corinthians', 'palmeiras', 'fluminense', 'atletico MG', 'gremio', 'sao paulo')\n",
            "('flamengo', 'vasco', 'botafogo', 'avai', 'corinthians')\n",
            "('palmeiras', 'fluminense', 'atletico MG', 'gremio', 'sao paulo')\n",
            "['atletico MG', 'avai', 'botafogo', 'corinthians', 'flamengo', 'fluminense', 'gremio', 'palmeiras', 'sao paulo', 'vasco']\n",
            "O flamengo esta na posição 1\n"
          ]
        }
      ],
      "source": [
        "brasileirao = ('flamengo', 'vasco', 'botafogo', 'avai', 'corinthians', 'palmeiras', 'fluminense', 'atletico MG','gremio', 'sao paulo' )\n",
        "\n",
        "print(brasileirao)\n",
        "print(brasileirao[:5])\n",
        "print(brasileirao[5:])\n",
        "print(sorted(brasileirao))\n",
        "\n",
        "teste = brasileirao.index('flamengo') + 1\n",
        "print('O flamengo esta na posição {}'.format(teste))"
      ]
    },
    {
      "cell_type": "markdown",
      "metadata": {
        "id": "A-MepzYOBm7g"
      },
      "source": [
        "EX:071"
      ]
    },
    {
      "cell_type": "code",
      "execution_count": null,
      "metadata": {
        "colab": {
          "base_uri": "https://localhost:8080/"
        },
        "id": "tEHlxb8LgAuk",
        "outputId": "488fb916-c995-4810-dc74-d9cee83dbe10"
      },
      "outputs": [
        {
          "name": "stdout",
          "output_type": "stream",
          "text": [
            "(12, 17, 20, 25, 8)\n",
            "O maior numero sorteado foi de 25, enquanto o menor foi de 8 \n"
          ]
        }
      ],
      "source": [
        "from random import randint\n",
        "n = randint(1,50),randint(1,50),randint(1,50),randint(1,50),randint(1,50)\n",
        "tupla = n\n",
        "print(tupla)\n",
        "\n",
        "maior = max(n)\n",
        "menos = min(n)\n",
        "print('O maior numero sorteado foi de {}, enquanto o menor foi de {} '.format(maior,menos))"
      ]
    },
    {
      "cell_type": "markdown",
      "metadata": {
        "id": "D-HkcwY_Bm5A"
      },
      "source": [
        "EX:072"
      ]
    },
    {
      "cell_type": "code",
      "execution_count": null,
      "metadata": {
        "colab": {
          "background_save": true,
          "base_uri": "https://localhost:8080/"
        },
        "id": "h_hnEPYrip4T",
        "outputId": "f5a229bc-4cd9-45da-8b13-a35154270731"
      },
      "outputs": [
        {
          "ename": "IndentationError",
          "evalue": "unexpected indent (<ipython-input-26-763892b9e783>, line 8)",
          "output_type": "error",
          "traceback": [
            "\u001b[0;36m  File \u001b[0;32m\"<ipython-input-26-763892b9e783>\"\u001b[0;36m, line \u001b[0;32m8\u001b[0m\n\u001b[0;31m    if tupla == 9:\u001b[0m\n\u001b[0m    ^\u001b[0m\n\u001b[0;31mIndentationError\u001b[0m\u001b[0;31m:\u001b[0m unexpected indent\n"
          ]
        }
      ],
      "source": [
        "n1 = int(input('Digite um numero: '))\n",
        "n2 = int(input('Digite um numero: '))\n",
        "n3 = int(input('Digite um numero: '))\n",
        "n4 = int(input('Digite um numero: '))\n",
        "nove = 0\n",
        "tupla = (n1,n2,n3,n4)\n",
        "print(tupla)\n",
        "  if tupla == 9:\n",
        "    nove = nove + 1\n",
        "  if"
      ]
    },
    {
      "cell_type": "code",
      "source": [
        "for c in range(0, 100, 3):\n",
        "  print(c)"
      ],
      "metadata": {
        "id": "Heul58pLg2Ta"
      },
      "execution_count": null,
      "outputs": []
    },
    {
      "cell_type": "markdown",
      "metadata": {
        "id": "5Tux0vrqBm2w"
      },
      "source": [
        "EX:073"
      ]
    },
    {
      "cell_type": "code",
      "source": [
        "par = 0\n",
        "impar = 0\n",
        "soma = 0\n",
        "\n",
        "for c in range(10, 99):\n",
        "  if c % 2 == 0:\n",
        "    par = c + par\n",
        "  else:\n",
        "    impar = impar + c\n",
        "print('A soma dos numero pares e de {}, e os impares e de {}'.format(par, impar))"
      ],
      "metadata": {
        "colab": {
          "base_uri": "https://localhost:8080/"
        },
        "id": "ghBUdtOkhIzI",
        "outputId": "c4432e76-0658-4fb4-f943-ccea0002e8e4"
      },
      "execution_count": null,
      "outputs": [
        {
          "output_type": "stream",
          "name": "stdout",
          "text": [
            "A soma dos numero pares e de 2430, e os impares e de 2376\n"
          ]
        }
      ]
    },
    {
      "cell_type": "markdown",
      "metadata": {
        "id": "aUDbGl7EBmzz"
      },
      "source": [
        "EX:074"
      ]
    },
    {
      "cell_type": "code",
      "source": [
        "def eh_multiplo_de_onze(num):\n",
        "    return num % 11 == 0\n",
        "\n",
        "inicio = 200\n",
        "fim = 100\n",
        "\n",
        "multiplos_de_onze = []\n",
        "\n",
        "for i in range(inicio, fim - 1, -1):\n",
        "    if eh_multiplo_de_onze(i):\n",
        "        multiplos_de_onze.append(i)\n",
        "\n",
        "soma = sum(multiplos_de_onze)\n",
        "\n",
        "media = soma / len(multiplos_de_onze)\n",
        "\n",
        "print(\"Múltiplos de 11 em ordem decrescente:\")\n",
        "for numero in multiplos_de_onze:\n",
        "    print(numero)\n",
        "\n",
        "print(\"Soma dos múltiplos de 11:\", soma)\n",
        "print(\"Média dos múltiplos de 11:\", media)\n"
      ],
      "metadata": {
        "id": "ImDihRCxhhv3"
      },
      "execution_count": null,
      "outputs": []
    },
    {
      "cell_type": "markdown",
      "metadata": {
        "id": "8TvxGZiPBmvx"
      },
      "source": [
        "EX:075"
      ]
    },
    {
      "cell_type": "code",
      "source": [
        "sim = 0\n",
        "nao = 0\n",
        "\n",
        "for c in range(0,1000):\n",
        "  empregado = input('Voce esta empregado? [S/N] ')\n",
        "  if empregado not in \"SsNn\":\n",
        "    print('Tenta novamente...')\n",
        "    empregado = input('Voce esta empregado? [S/N] ')\n",
        "    if empregado == 'Ss':\n",
        "      sim = sim + 1\n",
        "    else:\n",
        "      nao = nao + 1\n",
        "\n",
        "\n",
        "percentual = sim // 1000\n",
        "npercentual = nao // 1000"
      ],
      "metadata": {
        "id": "G6KqX7Y_ixuM"
      },
      "execution_count": null,
      "outputs": []
    },
    {
      "cell_type": "markdown",
      "metadata": {
        "id": "-RJNyG5IBmtR"
      },
      "source": [
        "EX:076"
      ]
    },
    {
      "cell_type": "code",
      "source": [
        "rico = 0\n",
        "media = 0\n",
        "pobre = 0\n",
        "\n",
        "for c in range(0,1000):\n",
        "  salario = float(input('Qual o seu salario? '))\n",
        "  if salario >= 21.180:\n",
        "    rico = rico + 1\n",
        "  elif 21180 > salario >= 9000:\n",
        "    media = media + 1\n",
        "  else:\n",
        "    pobre = pobre + 1\n",
        "print('Ao todo nessa lista temos {} ricos, {} clase media e {} pobres'.format(rico, media, pobre))"
      ],
      "metadata": {
        "id": "K_HA0GUrkb2z"
      },
      "execution_count": null,
      "outputs": []
    },
    {
      "cell_type": "markdown",
      "metadata": {
        "id": "_PU5sJZCBmrD"
      },
      "source": [
        "EX:077"
      ]
    },
    {
      "cell_type": "code",
      "source": [
        "n = 0\n",
        "for c in range(9, 90):\n",
        "  if c % 3 == 0 and c % 5 !=0:\n",
        "    n = n + 1\n",
        "    print(c, end = ' - ' * 3)\n",
        "    print(n)\n"
      ],
      "metadata": {
        "id": "C5ARLbdhlfpG"
      },
      "execution_count": null,
      "outputs": []
    },
    {
      "cell_type": "markdown",
      "metadata": {
        "id": "qsLEaBmHBmo_"
      },
      "source": [
        "EX:078"
      ]
    },
    {
      "cell_type": "code",
      "source": [
        "morango = 0\n",
        "chocolate = 0\n",
        "baunilha = 0\n",
        "total = 0\n",
        "while True:\n",
        "  preferencia = int(input('Qual dos 3 sabores voce preferiu?\\n[1] para votar em morango \\n[2] para chocolate \\n[3] para baunilha \\n[0]para sair sem dar um opniao: '))\n",
        "  if preferencia == 1:\n",
        "    morango = morango + 1\n",
        "    total = total + 1\n",
        "  elif preferencia == 2:\n",
        "    chocolate = chocolate + 1\n",
        "    total = total + 1\n",
        "  elif preferencia == 3:\n",
        "    baunilha = baunilha + 1\n",
        "    total = total + 1\n",
        "  else:\n",
        "    break\n",
        "    print('Fim do programa')\n",
        "print('O numero de pessoas que preferem morango e de {} \\n O numero de pessoas que preferem chocolate e de {} \\n O numero de pessoas que preferem baunilha e de {}, no total {} pessoas votaram '.format(morango,chocolate,baunilha, total))\n",
        "\n",
        "percentualMorango = total // morango\n",
        "percentualChocolate = total // chocolate\n",
        "percentualBaunilha = total // baunilha\n",
        "\n",
        "print(percentualMorango)\n",
        "print(percentualChocolate)\n",
        "print(percentualBaunilha)"
      ],
      "metadata": {
        "id": "Lf8-ih0xmhgT"
      },
      "execution_count": null,
      "outputs": []
    },
    {
      "cell_type": "markdown",
      "metadata": {
        "id": "x-hmwbZABmgb"
      },
      "source": [
        "EX:079"
      ]
    },
    {
      "cell_type": "code",
      "source": [
        "n1 = int(input('Digite um numero qualquer: '))\n",
        "for c in range(1,50):\n",
        "  print(n1 + c)"
      ],
      "metadata": {
        "id": "XHfnnZqwptQ4"
      },
      "execution_count": null,
      "outputs": []
    },
    {
      "cell_type": "markdown",
      "metadata": {
        "id": "LoPkKewsBmVv"
      },
      "source": [
        "\n",
        "\n",
        "EX:080"
      ]
    },
    {
      "cell_type": "code",
      "source": [
        "altura1 = 0\n",
        "MAltura = 0\n",
        "altura2 = 0\n",
        "\n",
        "\n",
        "for c in range(0, 50):\n",
        "  sexo = str(input('Qual seu sexo? [M/F] ')).upper()[0]\n",
        "  altura = float(input('Qual sua altura? '))\n",
        "  MAltura = MAltura + altura\n",
        "  if altura > altura1:\n",
        "    altura1 = altura\n",
        "  if altura > 1.82:\n",
        "    altura2 = altura2 + 1\n",
        "mediaaltura = MAltura // 50\n",
        "\n",
        "print('A altura da pessoa mais alta e de {}'.format(altura1))\n",
        "print('A media de altura e de {}'.format(mediaaltura))\n",
        "print('O total de pessoas com mais de 1.82 e de {}'.format(altura2))"
      ],
      "metadata": {
        "colab": {
          "base_uri": "https://localhost:8080/"
        },
        "id": "rbaHbCyFqXEY",
        "outputId": "c85dd433-8462-4a54-f684-7b38d3365c8b"
      },
      "execution_count": null,
      "outputs": [
        {
          "name": "stdout",
          "output_type": "stream",
          "text": [
            "Qual seu sexo? [M/F] f\n",
            "Qual sua altura? 1.75\n"
          ]
        }
      ]
    },
    {
      "cell_type": "code",
      "source": [
        "def bisexto(numero):\n",
        "  if (numero % 4 == 0 and numero % 100 != 0) or (numero % 400 == 0):\n",
        "    return True\n",
        "  else:\n",
        "    return False\n",
        "\n",
        "def main():\n",
        "  numero = int(input('Digite um numero '))\n",
        "  if bisexto(numero):\n",
        "    print('bisexto')\n",
        "  else:\n",
        "    print('nao bisexto')\n",
        "\n",
        "if __name__ == \"__main__\":\n",
        "  main()\n"
      ],
      "metadata": {
        "id": "BwNX-n4cUc4X"
      },
      "execution_count": null,
      "outputs": []
    },
    {
      "cell_type": "code",
      "source": [
        "#Escrever um programa que faça a Modelagem dos Dados. conforme o formulário PRODUTO (list) a seguir, preenchendo os dados em uma Lista: PESQUISA (list).\n",
        "\n",
        "#PRODUTO CÓDIGO: XXX PREÇO (RS): Mínimo de R$ 0.25\n",
        "\n",
        "# Para os dados lidos do usuário, fazer obrigatoriamente o tratamento de erro e exceção (try-except). Após isso, exibir na tela um relatório: Enumerado e formatado dos produtos (CÓDIGO e PREÇO) que estão acima do preço médio de mercado\n",
        "\n",
        "def ler_produto():\n",
        "    codigo = input(\"Digite o código do produto: \")\n",
        "    try:\n",
        "        preco = float(input(\"Digite o preço do produto (R$): \"))\n",
        "        if preco < 0.25:\n",
        "            raise ValueError(\"O preço mínimo deve ser R$ 0.25\")\n",
        "        return codigo, preco\n",
        "    except ValueError as e:\n",
        "        print(\"Erro:\", e)\n",
        "        return None, None\n",
        "\n",
        "def calcular_preco_medio(produtos):\n",
        "    total_precos = sum(produto[1] for produto in produtos)\n",
        "    return total_precos / len(produtos)\n",
        "\n",
        "def main():\n",
        "    pesquisa = []\n",
        "    while True:\n",
        "        codigo, preco = ler_produto()\n",
        "        if codigo is not None and preco is not None:\n",
        "            pesquisa.append((codigo, preco))\n",
        "        continuar = input(\"Deseja adicionar outro produto? (s/n): \")\n",
        "        if continuar.lower() != 's':\n",
        "            break\n",
        "\n",
        "    if pesquisa:\n",
        "        preco_medio = calcular_preco_medio(pesquisa)\n",
        "        print(\"\\nRelatório de produtos acima do preço médio de mercado:\")\n",
        "        for i, produto in enumerate(pesquisa, 1):\n",
        "            if produto[1] > preco_medio:\n",
        "                print(f\"{i}. Código: {produto[0]}, Preço: R${produto[1]:.2f}\")\n",
        "\n",
        "if __name__ == \"__main__\":\n",
        "    main()\n"
      ],
      "metadata": {
        "id": "A5gNpy_wYDFS"
      },
      "execution_count": null,
      "outputs": []
    },
    {
      "cell_type": "code",
      "source": [
        "def calc(n1,n2):\n",
        "  r1 = n1, n2\n",
        "  r2 = n1 + n2\n",
        "  r3 = (n1 + n2) // 2\n",
        "  return r1, r2, r3\n",
        "\n",
        "n1 = int(input('Digite um numero '))\n",
        "n2 = int(input('Digite um numero '))\n",
        "r1,r2,r3 = calc(n1,n2)\n",
        "print(r1)\n",
        "print(r2)\n",
        "print(r3)"
      ],
      "metadata": {
        "id": "v3pzSHGcZF5L"
      },
      "execution_count": null,
      "outputs": []
    },
    {
      "cell_type": "code",
      "source": [
        "#Criar uma função e protótipo que receba como argumento um 𝑁ú𝑚𝑒𝑟𝑜 inteiro (𝑁ú𝑚𝑒𝑟𝑜 > 0) e retorne à multiplicação dos Pares ou dos Ímpares entre [1, 𝑁ú𝑚𝑒𝑟𝑜] de acordo com a Opção do\n",
        "#usuário. Na célula do programa principal, use a função 100 vezes para valores de 𝑁ú𝑚𝑒𝑟𝑜 e Opção escolhidos pelo usuário\n",
        "\n",
        "def mul(numero, escolha):\n",
        "  if numero > 0 and escolha == 'p':\n",
        "    for c in range(0, numero, 2):\n",
        "      total = (c * numero)\n",
        "  elif numero > 0 and escolha == 'i':\n",
        "    for c in range(1, numero, 2):\n",
        "      total = (c * numero)\n",
        "  return numero,escolha,total\n",
        "\n",
        "def main():\n",
        "  numero = (int(input('Escolha um numero: ')))\n",
        "  escolha = str((input('Escolha um [i/p]'))).lower()[0]\n",
        "  numero, escolha, total = mul(numero, escolha)\n",
        "  for c in range(0, 100):\n",
        "    print(c * numero)\n",
        "\n",
        "if __name__ ==\"__main__\":\n",
        "  main()"
      ],
      "metadata": {
        "id": "LHExb5i9aqzi"
      },
      "execution_count": null,
      "outputs": []
    },
    {
      "cell_type": "code",
      "source": [
        "# Criar duas funções e seus protótipos que calculam a Combinação e o Arranjo de 𝑛 elementos combinados 𝑝 a 𝑝. Após isso, na célula do programa principal, use as funções criadas várias vezes e exiba o resultado\n",
        "# da Combinação e do Arranjo enquanto os valores lidos do usuário: 𝑛 e 𝑝 estiverem corretos. Sabe-se que: 𝐴𝑟𝑟𝑎𝑛𝑗𝑜(𝑛, 𝑝) =𝑛! (𝑛−𝑝)! 𝐶𝑜𝑚𝑏𝑖𝑛𝑎çã𝑜(𝑛, 𝑝) = 𝐴𝑟𝑟𝑎𝑛𝑗𝑜(𝑛, 𝑝) 𝑝!; 𝑠𝑒𝑛𝑑𝑜 𝑞𝑢𝑒: 𝑛 𝑒 𝑝 ≥ 0 𝑒 𝑛 ≥ �\n",
        "\n",
        "def func(escolha,n,p):\n",
        "  if escolha == 'C':\n",
        "    combinação = (n + p) // 2\n",
        "  elif escolha == 'A':\n",
        "    combinação = n // (n-p)\n",
        "  return combinação\n",
        "\n",
        "def main():\n",
        "  n = int(input('Digite um numero: '))\n",
        "  p = int(input('Digite outro numero: '))\n",
        "  escolha = str(input('escolha um [C/A]')).upper()[0]\n",
        "  combinação = func(escolha,n,p)\n",
        "  print(combinação)\n",
        "\n",
        "if __name__ == \"__main__\":\n",
        "  main()\n",
        "\n"
      ],
      "metadata": {
        "id": "YA47f240kK0s"
      },
      "execution_count": null,
      "outputs": []
    },
    {
      "cell_type": "code",
      "source": [
        "def soma(n1,n2):\n",
        "  s = n1 + n2\n",
        "  print(s)\n",
        "\n",
        "soma(10,15)"
      ],
      "metadata": {
        "colab": {
          "base_uri": "https://localhost:8080/"
        },
        "id": "wvGccV4duNMB",
        "outputId": "911f0ea8-249b-4011-bcb8-60f40898d1cb"
      },
      "execution_count": null,
      "outputs": [
        {
          "output_type": "stream",
          "name": "stdout",
          "text": [
            "25\n"
          ]
        }
      ]
    },
    {
      "cell_type": "code",
      "source": [
        "def soma (*num):\n",
        "  s = 0\n",
        "  for c in num:\n",
        "    s = s + c\n",
        "  print(s)\n",
        "\n",
        "soma(12, 15, 22,)"
      ],
      "metadata": {
        "colab": {
          "base_uri": "https://localhost:8080/"
        },
        "id": "ourCpIgxv8fj",
        "outputId": "888997b4-0ae3-471f-b164-a55a89f69eaa"
      },
      "execution_count": null,
      "outputs": [
        {
          "output_type": "stream",
          "name": "stdout",
          "text": [
            "49\n"
          ]
        }
      ]
    },
    {
      "cell_type": "code",
      "source": [
        "#Crie uma função que calcule o IMC (Índice de Massa Corpórea) de uma pessoa com base na sua idade, massa e sexo conforme tabela. Na célula do programa principal, use a função e exiba o IMC de 100 entrevistados (um por um).\n",
        "\n",
        "def IMC(sexo, massa, altura):\n",
        "  if sexo == 'M':\n",
        "    resultado = (1.05 * massa) // (altura ** 2)\n",
        "  elif sexo == 'F':\n",
        "    resultado = (0.95 * massa) // (altura ** 2)\n",
        "  return resultado\n",
        "\n",
        "def main():\n",
        "  sexo = str(input('Qual seu sexo?[M/F] ')).upper()[0]\n",
        "  massa = int(input('Qual sua massa? '))\n",
        "  altura = float(input('Qual sua altura? '))\n",
        "\n",
        "  imc = IMC(sexo, massa, altura)\n",
        "  print('Seu IMC e de {}'.format(imc))\n",
        "\n",
        "if __name__ == \"__main__\":\n",
        "  main()"
      ],
      "metadata": {
        "id": "uWJyp3YjxJYZ",
        "colab": {
          "base_uri": "https://localhost:8080/"
        },
        "outputId": "4cf5cf00-6db9-4562-ba34-ff4fe278da25"
      },
      "execution_count": null,
      "outputs": [
        {
          "output_type": "stream",
          "name": "stdout",
          "text": [
            "Qual seu sexo?[M/F] m\n",
            "Qual sua massa? 92\n",
            "Qual sua altura? 1.81\n",
            "Seu IMC e de 29.0\n"
          ]
        }
      ]
    },
    {
      "cell_type": "code",
      "source": [
        "def calc(n1, n2, escolha):\n",
        "    if escolha == 1:\n",
        "        resultado = n1 + n2\n",
        "    elif escolha == 2:\n",
        "        resultado = n1 - n2\n",
        "    elif escolha == 3:\n",
        "        resultado = n1 * n2\n",
        "    elif escolha == 4:\n",
        "        resultado = n1 / n2\n",
        "    elif escolha == 5:\n",
        "        resultado = n1 % n2\n",
        "    elif escolha == 6:\n",
        "        resultado = n1 // n2\n",
        "    else:\n",
        "        print('Escolha uma opção válida')\n",
        "        return None\n",
        "    return resultado\n",
        "\n",
        "def main():\n",
        "  escolha = int(input('Escolha um numero \\n [1] para somar \\n [2] para subtrair \\n [3] para multiplicar \\n [4] para dividir \\n [5] para restante \\n [6] para divisao completa \\n'))\n",
        "  n1 = int(input('Escolha um numero: '))\n",
        "  n2 = int(input('Escolha outro numero: '))\n",
        "  resultado = calc(n1, n2, escolha)\n",
        "  print('O resultado e de {}'.format(resultado))\n",
        "\n",
        "if __name__ == \"__main__\":\n",
        "  main()"
      ],
      "metadata": {
        "colab": {
          "base_uri": "https://localhost:8080/"
        },
        "id": "z8eUkcCyCWIN",
        "outputId": "343a5ff1-47fd-4312-84cf-f85724d69b8b"
      },
      "execution_count": null,
      "outputs": [
        {
          "output_type": "stream",
          "name": "stdout",
          "text": [
            "Escolha um numero \n",
            " [1] para somar \n",
            " [2] para subtrair \n",
            " [3] para multiplicar \n",
            " [4] para dividir \n",
            " [5] para restante \n",
            " [6] para divisao completa \n",
            "1\n",
            "Escolha um numero: 12\n",
            "Escolha outro numero: 6\n",
            "O resultado e de 18\n"
          ]
        }
      ]
    },
    {
      "cell_type": "code",
      "source": [
        "def jogo(idade):\n",
        "  if idade < 10:\n",
        "    pagamento = print('Voce não precisa pagar')\n",
        "  elif 10 < idade < 17:\n",
        "    pagamento = print('voce so paga meia')\n",
        "  elif idade > 18:\n",
        "    pagamento = print('Voce paga inteira')\n",
        "  else:\n",
        "    print('escolha um opção valida')\n",
        "    return None\n",
        "\n",
        "  return pagamento\n",
        "\n",
        "def main():\n",
        "  idade = int(input('Qual a sua idade'))\n",
        "  pagamento = jogo(idade)\n",
        "\n",
        "\n",
        "if __name__ == \"__main__\":\n",
        "  main()"
      ],
      "metadata": {
        "id": "iwGjP3AzIl0D"
      },
      "execution_count": null,
      "outputs": []
    },
    {
      "cell_type": "code",
      "source": [
        "def jogo(escolha):\n",
        "  if escolha == 1:\n",
        "    pagamento = 'Voce não precisa pagar'\n",
        "  elif escolha == 2:\n",
        "    pagamento = 'voce so paga meia'\n",
        "  elif escolha == 3:\n",
        "    pagamento = 'Voce paga inteira'\n",
        "  else:\n",
        "    pagamento = 'escolha um opção valida'\n",
        "  return pagamento\n",
        "\n",
        "def main():\n",
        "  escolha = int(input('Escolha um numero: \\n [1] se voce tiver menos de 10 anos \\n [2] se voce tiver entre 10 e 17 \\n [3] se voce for maior de idade \\n'))\n",
        "  teste = jogo(escolha)\n",
        "  print(teste)\n",
        "\n",
        "\n",
        "if __name__ == \"__main__\":\n",
        "  main()"
      ],
      "metadata": {
        "id": "_fFVYY9gKS5Y"
      },
      "execution_count": null,
      "outputs": []
    },
    {
      "cell_type": "code",
      "source": [
        "#Escrever um algoritmo para exibir os múltiplos de 3 compreendidos no intervalo: [3 100]\n",
        "\n",
        "for c in range(3,100,3):\n",
        "  print(c)"
      ],
      "metadata": {
        "id": "gqHVf2uzdlYY"
      },
      "execution_count": null,
      "outputs": []
    },
    {
      "cell_type": "code",
      "source": [
        "#Escrever um algoritmo para exibir os múltiplos de 11, a soma e a média dos múltiplos de 11, em ordem decrescente (inversa), compreendidos entre o intervalo: [200 100].\n",
        "soma = 0\n",
        "for c in range(200,100,-11):\n",
        "  print (c)\n",
        "  soma = soma + c\n",
        "print('~~' * 10)\n",
        "print(soma)\n",
        "resultado = soma // 10\n",
        "print('~~' * 10)\n",
        "print(resultado)\n",
        "print('~~' * 10)"
      ],
      "metadata": {
        "colab": {
          "base_uri": "https://localhost:8080/"
        },
        "id": "mdWgPyvGd1tQ",
        "outputId": "616019ca-f9c7-4737-f24d-ad64949f79d5"
      },
      "execution_count": null,
      "outputs": [
        {
          "output_type": "stream",
          "name": "stdout",
          "text": [
            "200\n",
            "189\n",
            "178\n",
            "167\n",
            "156\n",
            "145\n",
            "134\n",
            "123\n",
            "112\n",
            "101\n",
            "~~~~~~~~~~~~~~~~~~~~\n",
            "1505\n",
            "~~~~~~~~~~~~~~~~~~~~\n",
            "150\n"
          ]
        }
      ]
    },
    {
      "cell_type": "code",
      "source": [
        "#Faça um algoritmo que exiba a soma dos PARES e ÍMPARES compreendidos entre [10 99].\n",
        "par = 0\n",
        "impar = 0\n",
        "\n",
        "for c in range(10,99,2):\n",
        "  par = par + c\n",
        "for b in range(11,99,2):\n",
        "  impar = impar + b\n",
        "print ('A soma dos numeros impares e de {} e dos numeros pares e de {}'.format(impar,par))"
      ],
      "metadata": {
        "colab": {
          "base_uri": "https://localhost:8080/"
        },
        "id": "aCUsq677e54E",
        "outputId": "8588f54b-5cd5-46bc-9370-0977f6b11371"
      },
      "execution_count": null,
      "outputs": [
        {
          "output_type": "stream",
          "name": "stdout",
          "text": [
            "A soma dos numeros impares e de 2376 e dos numeros pares e de2430\n"
          ]
        }
      ]
    },
    {
      "cell_type": "code",
      "source": [
        "#Escreva um algoritmo que leia de 10.000 habitantes de uma pequena cidade se está empregado ou não e exiba em porcentagem a quantidade de empregados e desempregados desta pequena cidade.\n",
        "empregado = 0\n",
        "desempregado = 0\n",
        "total = 10000\n",
        "\n",
        "for c in range(0,10000):\n",
        "  emprego = str(input('Voce esta empregado no momento? [S/N]')).upper()[0]\n",
        "  if emprego == 'S':\n",
        "    empregado = empregado + 1\n",
        "  elif emprego == 'N':\n",
        "    desempregado = desempregado + 1\n",
        "  else:\n",
        "    print('Escolha um opção valida')\n",
        "\n",
        "\n",
        "percentual_empregado = (empregado / total) * 100\n",
        "percentual_desempregado = (desempregado / total) * 100\n",
        "\n",
        "print('O percentual de empregados e de {} e o de desempregados e de {}'.format(percentual_empregado, percentual_desempregado))\n"
      ],
      "metadata": {
        "id": "7NiZoJjifcIX"
      },
      "execution_count": null,
      "outputs": []
    },
    {
      "cell_type": "markdown",
      "source": [],
      "metadata": {
        "id": "8dltWVGgd1ko"
      }
    },
    {
      "cell_type": "code",
      "source": [
        "#Escreva um algoritmo que leia o salário em reais (R$) de 1000 clientes de um shopping e exiba na tela, em porcentagem, a divisão dos clientes por tipo: A, B ou C, conforme a seguir:\n",
        "# A: Maior ou igual a 15 Salários Mínimos ou\n",
        "# B: Menor que 15 Salários Mínimos ou maior ou igual a 5 Salários Mínimos ou\n",
        "# C: Menor que 5 Salários Mínimos\n",
        "a = 0\n",
        "b = 0\n",
        "c = 0\n",
        "total = 1000\n",
        "\n",
        "for c in range(0,1000):\n",
        "  salario = float(input('Digite seu salario: '))\n",
        "  if salario >= 15000:\n",
        "    a = a + 1\n",
        "  elif 15000 > salario > 5000:\n",
        "    b = b + 1\n",
        "  else:\n",
        "    c = c + 1\n",
        "\n",
        "ta = (a / 1000) * 100\n",
        "tb = (b / 1000) * 100\n",
        "tc = (c / 1000) * 100\n",
        "\n",
        "print('O percentual de pessoas que recebem mais de 15 salarios minimos e de {} \\n o percentual de pessoas que recebem entre 15 a 5 salarios minimos e de {} \\n e o percentual de pessoas que recebem menos de 5 salarios minimos e de {}'.format(ta,tb,tc))"
      ],
      "metadata": {
        "id": "tyIoOk1jiBgv"
      },
      "execution_count": null,
      "outputs": []
    },
    {
      "cell_type": "code",
      "source": [
        "#Escrever um algoritmo que conte e soma todos os números ímpares que são múltiplos de três e NÃO múltiplos de 5 que se encontram no intervalo [9 90]. Exiba a Contagem e a Soma destes números\n",
        "resultado = 0\n",
        "for c in range(9,90):\n",
        "  if c % 3 == 0 and c % 5 != 0:\n",
        "    resultado = resultado + c\n",
        "    print(c)\n",
        "print('~~' * 3)\n",
        "print(resultado)"
      ],
      "metadata": {
        "id": "CV8uIQD2lCTp"
      },
      "execution_count": null,
      "outputs": []
    }
  ],
  "metadata": {
    "colab": {
      "provenance": []
    },
    "kernelspec": {
      "display_name": "Python 3",
      "name": "python3"
    },
    "language_info": {
      "name": "python"
    }
  },
  "nbformat": 4,
  "nbformat_minor": 0
}